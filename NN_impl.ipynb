{
 "cells": [
  {
   "cell_type": "code",
   "execution_count": 2,
   "metadata": {},
   "outputs": [],
   "source": [
    "import pandas as pd\n",
    "import numpy as np\n",
    "\n",
    "import tensorflow as tf\n",
    "from tensorflow.keras import backend as K\n",
    "\n",
    "from scipy.sparse import csr_matrix, vstack, hstack\n",
    "from sklearn.metrics import roc_auc_score"
   ]
  },
  {
   "cell_type": "code",
   "execution_count": 3,
   "metadata": {},
   "outputs": [],
   "source": [
    "train = pd.read_csv(\"train.csv\").dropna()\n",
    "test = pd.read_csv(\"test.csv\").dropna()\n",
    "y_train = np.array(train['Sentiment'])\n",
    "y_test = np.array(test['Sentiment'])\n",
    "X_train = train.drop(['Sentiment'], axis=1)\n",
    "X_train = X_train.values\n",
    "X_test = test.drop(['Sentiment'], axis=1).values\n",
    "gen_features = ['word_count', 'unigram_count', 'unique_word_count', 'unique_unigram_count', 'stopword_count', 'mean_word_length', 'mean_unigram_length', 'char_count', 'punctuation_count', 'number_count']"
   ]
  },
  {
   "cell_type": "code",
   "execution_count": 17,
   "metadata": {},
   "outputs": [
    {
     "name": "stdout",
     "output_type": "stream",
     "text": [
      "Epoch 1/30\n",
      "1326/1326 [==============================] - 1s 541us/step - loss: 2.5028 - custom_accuracy: 0.5502 - val_loss: 0.0758 - val_custom_accuracy: 1.0000\n",
      "Epoch 2/30\n",
      "1326/1326 [==============================] - 1s 473us/step - loss: 0.7545 - custom_accuracy: 0.5967 - val_loss: 0.0412 - val_custom_accuracy: 1.0000\n",
      "Epoch 3/30\n",
      "1326/1326 [==============================] - 1s 472us/step - loss: 0.7396 - custom_accuracy: 0.5965 - val_loss: 0.1667 - val_custom_accuracy: 1.0000\n",
      "Epoch 4/30\n",
      "1326/1326 [==============================] - 1s 493us/step - loss: 0.7219 - custom_accuracy: 0.6050 - val_loss: 0.9624 - val_custom_accuracy: 0.2102\n",
      "Epoch 5/30\n",
      "1326/1326 [==============================] - 1s 476us/step - loss: 0.6986 - custom_accuracy: 0.6107 - val_loss: 0.0736 - val_custom_accuracy: 1.0000\n",
      "Epoch 6/30\n",
      "1326/1326 [==============================] - 1s 473us/step - loss: 0.6999 - custom_accuracy: 0.6160 - val_loss: 0.1177 - val_custom_accuracy: 1.0000\n",
      "Epoch 7/30\n",
      "1326/1326 [==============================] - 1s 492us/step - loss: 0.6925 - custom_accuracy: 0.6144 - val_loss: 0.8485 - val_custom_accuracy: 0.2593\n",
      "Epoch 8/30\n",
      "1326/1326 [==============================] - 1s 497us/step - loss: 0.7012 - custom_accuracy: 0.6188 - val_loss: 1.6546 - val_custom_accuracy: 0.0119\n",
      "Epoch 9/30\n",
      "1326/1326 [==============================] - 1s 472us/step - loss: 0.6599 - custom_accuracy: 0.6310 - val_loss: 1.8225 - val_custom_accuracy: 0.0017\n",
      "Epoch 10/30\n",
      "1326/1326 [==============================] - 1s 483us/step - loss: 0.6605 - custom_accuracy: 0.6454 - val_loss: 0.5059 - val_custom_accuracy: 0.8780\n",
      "Epoch 11/30\n",
      "1326/1326 [==============================] - 1s 471us/step - loss: 0.6678 - custom_accuracy: 0.6386 - val_loss: 1.0300 - val_custom_accuracy: 0.1746\n",
      "Epoch 12/30\n",
      "1326/1326 [==============================] - 1s 472us/step - loss: 0.6470 - custom_accuracy: 0.6506 - val_loss: 0.7513 - val_custom_accuracy: 0.3915\n",
      "Epoch 13/30\n",
      "1326/1326 [==============================] - 1s 495us/step - loss: 0.6403 - custom_accuracy: 0.6505 - val_loss: 0.3871 - val_custom_accuracy: 0.9424\n",
      "Epoch 14/30\n",
      "1326/1326 [==============================] - 1s 503us/step - loss: 0.6405 - custom_accuracy: 0.6572 - val_loss: 0.3263 - val_custom_accuracy: 0.9847\n",
      "Epoch 15/30\n",
      "1326/1326 [==============================] - 1s 472us/step - loss: 0.6355 - custom_accuracy: 0.6527 - val_loss: 0.2259 - val_custom_accuracy: 1.0000\n",
      "Epoch 16/30\n",
      "1326/1326 [==============================] - 1s 485us/step - loss: 0.6343 - custom_accuracy: 0.6476 - val_loss: 0.1646 - val_custom_accuracy: 1.0000\n",
      "Epoch 17/30\n",
      "1326/1326 [==============================] - 1s 480us/step - loss: 0.6216 - custom_accuracy: 0.6655 - val_loss: 0.3100 - val_custom_accuracy: 0.9881\n",
      "Epoch 18/30\n",
      "1326/1326 [==============================] - 1s 474us/step - loss: 0.6299 - custom_accuracy: 0.6646 - val_loss: 1.3222 - val_custom_accuracy: 0.0492\n",
      "Epoch 19/30\n",
      "1326/1326 [==============================] - 1s 476us/step - loss: 0.6116 - custom_accuracy: 0.6686 - val_loss: 1.4052 - val_custom_accuracy: 0.0339\n",
      "Epoch 20/30\n",
      "1326/1326 [==============================] - 1s 476us/step - loss: 0.6035 - custom_accuracy: 0.6784 - val_loss: 0.0348 - val_custom_accuracy: 1.0000\n",
      "Epoch 21/30\n",
      "1326/1326 [==============================] - 1s 500us/step - loss: 0.6429 - custom_accuracy: 0.6723 - val_loss: 0.5168 - val_custom_accuracy: 0.8153\n",
      "Epoch 22/30\n",
      "1326/1326 [==============================] - 1s 471us/step - loss: 0.5933 - custom_accuracy: 0.6887 - val_loss: 0.2440 - val_custom_accuracy: 0.9915\n",
      "Epoch 23/30\n",
      "1326/1326 [==============================] - 1s 473us/step - loss: 0.6065 - custom_accuracy: 0.6767 - val_loss: 0.3184 - val_custom_accuracy: 0.9746\n",
      "Epoch 24/30\n",
      "1326/1326 [==============================] - 1s 472us/step - loss: 0.6035 - custom_accuracy: 0.6814 - val_loss: 0.1625 - val_custom_accuracy: 1.0000\n",
      "Epoch 25/30\n",
      "1326/1326 [==============================] - 1s 500us/step - loss: 0.5784 - custom_accuracy: 0.6963 - val_loss: 1.3095 - val_custom_accuracy: 0.1000\n",
      "Epoch 26/30\n",
      "1326/1326 [==============================] - 1s 472us/step - loss: 0.6098 - custom_accuracy: 0.6885 - val_loss: 0.2012 - val_custom_accuracy: 0.9966\n",
      "Epoch 27/30\n",
      "1326/1326 [==============================] - 1s 472us/step - loss: 0.5915 - custom_accuracy: 0.7019 - val_loss: 0.0526 - val_custom_accuracy: 1.0000\n",
      "Epoch 28/30\n",
      "1326/1326 [==============================] - 1s 473us/step - loss: 0.5832 - custom_accuracy: 0.7080 - val_loss: 0.5460 - val_custom_accuracy: 0.7576\n",
      "Epoch 29/30\n",
      "1326/1326 [==============================] - 1s 477us/step - loss: 0.5826 - custom_accuracy: 0.7002 - val_loss: 0.1491 - val_custom_accuracy: 1.0000\n",
      "Epoch 30/30\n",
      "1326/1326 [==============================] - 1s 500us/step - loss: 0.5943 - custom_accuracy: 0.6974 - val_loss: 0.1777 - val_custom_accuracy: 0.9966\n"
     ]
    },
    {
     "data": {
      "text/plain": [
       "<keras.src.callbacks.History at 0x2a0723ed0>"
      ]
     },
     "execution_count": 17,
     "metadata": {},
     "output_type": "execute_result"
    }
   ],
   "source": [
    "from tensorflow.keras.models import Sequential\n",
    "from tensorflow.keras.layers import Dense, Dropout\n",
    "from tensorflow.keras.regularizers import l2\n",
    "from tensorflow.keras.optimizers.legacy import Adam\n",
    "\n",
    "model = Sequential()\n",
    "model.add(Dense(16, activation='relu', input_dim=X_train.shape[1], kernel_regularizer=l2(0.0001)))\n",
    "model.add(Dense(8, activation='relu', kernel_regularizer=l2(0.0001)))\n",
    "model.add(Dense(1, activation='tanh'))  # Output layer\n",
    "\n",
    "\n",
    "def custom_binary_crossentropy(y_true, y_pred):\n",
    "    # Transform y_true to 0 and 1.\n",
    "    y_true_transformed = K.cast((y_true + 1) / 2, dtype='float64')\n",
    "    y_pred_transformed = K.cast((y_pred + 1) / 2, dtype='float64')\n",
    "\n",
    "    # Compute binary crossentropy\n",
    "    bce = K.binary_crossentropy(y_true_transformed, y_pred_transformed, from_logits=False)\n",
    "    \n",
    "    return K.mean(bce)\n",
    "\n",
    "adam = Adam(learning_rate=0.0001)\n",
    "def custom_accuracy(y_true, y_pred):\n",
    "    # Since y_pred comes from tanh, values will be between -1 and 1.\n",
    "    # We convert these to 1 and -1 for comparison.\n",
    "    y_pred_labels = K.cast(K.greater(y_pred, 0), K.floatx()) * 2 - 1\n",
    "    # Compare predicted labels to true labels\n",
    "    correct_predictions = K.equal(y_true, y_pred_labels)\n",
    "    # Calculate accuracy\n",
    "    return K.mean(correct_predictions, axis=-1)\n",
    "\n",
    "model.compile(optimizer=adam, loss=custom_binary_crossentropy, metrics=[custom_accuracy])\n",
    "# Fit the model - assuming your data is ready and appropriately preprocessed\n",
    "model.fit(X_train, y_train, epochs=30, batch_size=4, validation_split=0.1)"
   ]
  },
  {
   "cell_type": "code",
   "execution_count": 16,
   "metadata": {},
   "outputs": [
    {
     "name": "stdout",
     "output_type": "stream",
     "text": [
      "Invalid metric: <function custom_accuracy at 0x29dc2ca40>\n"
     ]
    }
   ],
   "source": [
    "def build_model(hp):\n",
    "    model = Sequential()\n",
    "    model.add(Dense(units=hp.Int('units', min_value=8, max_value=64, step=8),\n",
    "                    activation='relu', input_dim=X_train.shape[1],\n",
    "                    kernel_regularizer=l2(hp.Float('l2', min_value=1e-4, max_value=1e-2, sampling='LOG'))))\n",
    "    #model.add(Dropout(hp.Float('dropout', min_value=0.0, max_value=0.5, step=0.1)))\n",
    "    model.add(Dense(units=hp.Int('units', min_value=8, max_value=32, step=8),\n",
    "                    activation='relu',\n",
    "                    kernel_regularizer=l2(hp.Float('l2', min_value=1e-4, max_value=1e-2, sampling='LOG'))))\n",
    "    model.add(Dense(units=hp.Int('units', min_value=8, max_value=16, step=8),\n",
    "                    activation='relu',\n",
    "                    kernel_regularizer=l2(hp.Float('l2', min_value=1e-4, max_value=1e-2, sampling='LOG'))))\n",
    "    # You can also add Dropout here if needed\n",
    "    model.add(Dense(1, activation='tanh'))\n",
    "\n",
    "    adam = Adam(learning_rate=hp.Float('learning_rate', min_value=0.00005, max_value=0.0003, step =0.00005))\n",
    "    model.compile(optimizer=adam, loss=custom_binary_crossentropy, metrics=[custom_accuracy, 'val_accuracy'])\n",
    "\n",
    "    return model\n",
    "\n",
    "# Create a tuner\n",
    "tuner = kt.Hyperband(\n",
    "    build_model,\n",
    "    objective='val_accuracy',\n",
    "    max_epochs=50,\n",
    "    hyperband_iterations=2)\n",
    "\n",
    "# Perform hyperparameter tuning\n",
    "tuner.search(X_train, y_train, epochs=50, validation_split=0.1, callbacks=[tf.keras.callbacks.EarlyStopping(patience=5)])\n",
    "\n",
    "# Get the optimal hyperparameters\n",
    "best_hps = tuner.get_best_hyperparameters(num_trials=1)[0]\n"
   ]
  },
  {
   "cell_type": "code",
   "execution_count": 68,
   "metadata": {},
   "outputs": [
    {
     "name": "stdout",
     "output_type": "stream",
     "text": [
      "Model: \"sequential_2\"\n",
      "_________________________________________________________________\n",
      " Layer (type)                Output Shape              Param #   \n",
      "=================================================================\n",
      " dense_4 (Dense)             (None, 208)               256880    \n",
      "                                                                 \n",
      " dropout_2 (Dropout)         (None, 208)               0         \n",
      "                                                                 \n",
      " dense_5 (Dense)             (None, 1)                 209       \n",
      "                                                                 \n",
      "=================================================================\n",
      "Total params: 257089 (1004.25 KB)\n",
      "Trainable params: 257089 (1004.25 KB)\n",
      "Non-trainable params: 0 (0.00 Byte)\n",
      "_________________________________________________________________\n",
      "185/185 [==============================] - 0s 1ms/step - loss: 3.8837 - accuracy: 0.2735\n"
     ]
    }
   ],
   "source": [
    "\n",
    "# You can now access the best hyperparameters as follows:\n",
    "best_units = best_hps.get('units')\n",
    "best_dropout = best_hps.get('dropout')\n",
    "best_l2 = best_hps.get('l2')\n",
    "best_learning_rate = best_hps.get('learning_rate')\n",
    "\n",
    "# Now you can use these best hyperparameters to build the best model\n",
    "best_model = tuner.hypermodel.build(best_hps)\n",
    "\n",
    "# Summary of the best model\n",
    "best_model.summary()\n",
    "\n",
    "# You can now train the best model with the optimal hyperparameters\n",
    "history = best_model.fit(X_train, y_train)"
   ]
  },
  {
   "cell_type": "code",
   "execution_count": 18,
   "metadata": {},
   "outputs": [
    {
     "name": "stdout",
     "output_type": "stream",
     "text": [
      "37/37 [==============================] - 0s 519us/step\n",
      "AUC: 0.8030692183406394\n"
     ]
    }
   ],
   "source": [
    "y_pred_test = model.predict(X_test)\n",
    "roc_auc_test = roc_auc_score(y_test, y_pred_test)\n",
    "print(f'AUC: {roc_auc_test}')"
   ]
  }
 ],
 "metadata": {
  "kernelspec": {
   "display_name": "Python 3",
   "language": "python",
   "name": "python3"
  },
  "language_info": {
   "codemirror_mode": {
    "name": "ipython",
    "version": 3
   },
   "file_extension": ".py",
   "mimetype": "text/x-python",
   "name": "python",
   "nbconvert_exporter": "python",
   "pygments_lexer": "ipython3",
   "version": "3.11.4"
  }
 },
 "nbformat": 4,
 "nbformat_minor": 2
}
