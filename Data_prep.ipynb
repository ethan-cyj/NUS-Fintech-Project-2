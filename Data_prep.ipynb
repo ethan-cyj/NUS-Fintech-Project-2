{
 "cells": [
  {
   "cell_type": "code",
   "execution_count": 1,
   "metadata": {},
   "outputs": [],
   "source": [
    "\n",
    "import warnings\n",
    "warnings.filterwarnings('ignore') \n",
    "\n",
    "import pandas as pd\n",
    "from sklearn.model_selection import train_test_split\n",
    "import seaborn as sns\n",
    "import matplotlib.pyplot as plt\n",
    "import contractions\n",
    "import re\n",
    "from nltk.tokenize import TweetTokenizer\n"
   ]
  },
  {
   "cell_type": "code",
   "execution_count": 2,
   "metadata": {},
   "outputs": [],
   "source": [
    "from nltk.sentiment.vader import SentimentIntensityAnalyzer\n",
    "import matplotlib.pyplot as plt\n",
    "import numpy as np\n",
    "import string\n",
    "import nltk\n",
    "from nltk.util import bigrams, trigrams\n",
    "from nltk.corpus import stopwords\n",
    "from gensim.models import Word2Vec #install gensim # had to use this: pip install --upgrade gensim smart_open protobuf==3.20.0\n",
    "from sklearn.feature_extraction.text import CountVectorizer\n",
    "from scipy.sparse import csr_matrix\n",
    "from sklearn.feature_extraction.text import TfidfVectorizer\n",
    "from nltk.stem import WordNetLemmatizer\n",
    "from scipy.stats import chi2_contingency"
   ]
  },
  {
   "cell_type": "code",
   "execution_count": 3,
   "metadata": {},
   "outputs": [],
   "source": [
    "data = pd.read_csv(\"stock_data.csv\")"
   ]
  },
  {
   "cell_type": "markdown",
   "metadata": {},
   "source": [
    "data cleaning"
   ]
  },
  {
   "cell_type": "code",
   "execution_count": 4,
   "metadata": {},
   "outputs": [],
   "source": [
    "#removing contractions\n",
    "data['Text_unigram'] = data['Text'].apply(contractions.fix)\n",
    "#change to lower case\n",
    "data['Text_unigram'] = data['Text_unigram'].apply(lambda text:text.lower())"
   ]
  },
  {
   "cell_type": "markdown",
   "metadata": {},
   "source": [
    "Tokenisation, stopword removal, lemmatization"
   ]
  },
  {
   "cell_type": "code",
   "execution_count": 5,
   "metadata": {},
   "outputs": [],
   "source": [
    "# Unigram Tokenizing\n",
    "tweettokenizer = TweetTokenizer()\n",
    "data[\"Text_unigram\"] = data['Text_unigram'].apply(tweettokenizer.tokenize)\n",
    "\n",
    "stop_words = set(stopwords.words('english'))\n",
    "\n",
    "to_remove = [\"no\",\"not\", \"on\", \"off\", \"too\", \"out\", \"over\", \"under\"] #want to keep some words that connote sentiment/ words that are finance related?\n",
    "for word in to_remove:\n",
    "    stop_words.remove(word)\n",
    "def filter_unigrams(tokens):\n",
    "    return [token for token in tokens if token not in stop_words]\n",
    "data[\"Text_unigram\"] = data[\"Text_unigram\"].apply(filter_unigrams)\n",
    "\n",
    "\n",
    "lemmatizer = WordNetLemmatizer()\n",
    "def lemmatize_unigrams(tokens):\n",
    "    return [lemmatizer.lemmatize(token) for token in tokens]\n",
    "data[\"Text_unigram\"] = data[\"Text_unigram\"].apply(lemmatize_unigrams)"
   ]
  },
  {
   "cell_type": "markdown",
   "metadata": {},
   "source": [
    "TF-IDF"
   ]
  },
  {
   "cell_type": "code",
   "execution_count": 20,
   "metadata": {},
   "outputs": [],
   "source": [
    "tfvectorizer = TfidfVectorizer(min_df = 20, ngram_range=(1, 3)) #min appearance 10 times to reduce dimensionality\n",
    "documents = data['Text_unigram'].apply(lambda tokens_list:' '.join(tokens_list))\n",
    "tfidf_matrix= tfvectorizer.fit_transform(documents)\n",
    "tfidf_matrix_csr = csr_matrix(tfidf_matrix)\n",
    "data['Text_tfidf'] = [row for row in tfidf_matrix_csr]\n",
    "feature_names = tfvectorizer.get_feature_names_out()"
   ]
  },
  {
   "cell_type": "markdown",
   "metadata": {},
   "source": [
    "General Text Features"
   ]
  },
  {
   "cell_type": "code",
   "execution_count": 21,
   "metadata": {},
   "outputs": [],
   "source": [
    "# Word Count\n",
    "data['word_count'] = data['Text'].apply(lambda x: len(str(x).split())) #note that its post \n",
    "data['unigram_count'] = data['Text_unigram'].apply(lambda x: len(x))\n",
    "\n",
    "# Unique Word Count\n",
    "data['unique_word_count'] = data['Text'].apply(lambda x: len(set(str(x).split())))\n",
    "data['unique_unigram_count'] = data['Text_unigram'].apply(lambda x: len(set(x)))\n",
    "\n",
    "# Stop Word Count\n",
    "stop = stopwords.words('english')\n",
    "data['stopword_count'] = data['Text'].apply(lambda x: len([word for word in str(x).split() if word.lower() in stop]))\n",
    "\n",
    "# Mean Word Length\n",
    "data['mean_word_length'] = data['Text'].apply(lambda x: np.mean([len(word) for word in str(x).split()]))\n",
    "data['mean_unigram_length'] = data['Text_unigram'].apply(lambda x: np.mean([len(token) for token in x]))\n",
    "\n",
    "# Character Count\n",
    "data['char_count'] = data['Text'].apply(lambda x: len(str(x)))\n",
    "\n",
    "# Punctuation Count\n",
    "data['punctuation_count'] = data['Text'].apply(lambda x: len([char for char in str(x) if char in string.punctuation]))\n",
    "\n",
    "# Number Count\n",
    "data['number_count'] = data['Text'].apply(lambda x: len([word for word in str(x).split() if word.isdigit()]))\n",
    "gen_features = ['word_count', 'unigram_count', 'unique_word_count', 'unique_unigram_count', 'stopword_count', 'mean_word_length', 'mean_unigram_length', 'char_count', 'punctuation_count', 'number_count']"
   ]
  },
  {
   "cell_type": "markdown",
   "metadata": {},
   "source": [
    "EDA"
   ]
  },
  {
   "cell_type": "code",
   "execution_count": 22,
   "metadata": {},
   "outputs": [
    {
     "name": "stdout",
     "output_type": "stream",
     "text": [
      "Total Number of Entries before reduction: 5791\n",
      "Distribution of Labels\n",
      "Sentiment\n",
      " 1    3685\n",
      "-1    2106\n",
      "Name: count, dtype: int64\n",
      "Number of dimensions for tdidf: 581\n"
     ]
    },
    {
     "data": {
      "image/png": "[encoded data removed]",
      "text/plain": [
       "<Figure size 640x480 with 1 Axes>"
      ]
     },
     "metadata": {},
     "output_type": "display_data"
    }
   ],
   "source": [
    "#print(data[data[\"Text\"].isna()]) #check for NAs\n",
    "#print(data[data[\"Sentiment\"].isna()]) #check for NAs\n",
    "sns.countplot(data, x = \"Sentiment\")\n",
    "plt.title(\"Distribution of Labels\")\n",
    "plt.xlabel(\"Label\")\n",
    "plt.ylabel(\"Counts\")\n",
    "\n",
    "print(\"Total Number of Entries before reduction:\",len(data))\n",
    "print(\"Distribution of Labels\")\n",
    "print(data[\"Sentiment\"].value_counts())\n",
    "\n",
    "print(\"Number of dimensions for tdidf:\",data['Text_tfidf'][0].shape[1])\n"
   ]
  },
  {
   "cell_type": "code",
   "execution_count": 23,
   "metadata": {},
   "outputs": [
    {
     "name": "stdout",
     "output_type": "stream",
     "text": [
      "Resampled train data shape: Counter({1: 2947, -1: 2947})\n",
      "Test data shape: Counter({1: 738, -1: 421})\n"
     ]
    }
   ],
   "source": [
    "from sklearn.model_selection import train_test_split\n",
    "from imblearn.over_sampling import RandomOverSampler\n",
    "from collections import Counter\n",
    "from scipy.sparse import hstack\n",
    "additional_features = csr_matrix(data[gen_features].values)\n",
    "X_features = hstack([tfidf_matrix, additional_features])\n",
    "\n",
    "# Combine the feature names with the names of the additional features\n",
    "all_feature_names = np.concatenate((feature_names, gen_features))\n",
    "\n",
    "X_train, X_test, y_train, y_test = train_test_split(X_features, data['Sentiment'], test_size=0.2, stratify=data['Sentiment'], random_state=42)\n",
    "\n",
    "# Convert to dense format and create DataFrame\n",
    "X_train_df = pd.DataFrame(X_train.toarray(), columns=all_feature_names)\n",
    "X_test_df = pd.DataFrame(X_test.toarray(), columns=all_feature_names)\n",
    "\n",
    "# To apply oversampling\n",
    "ros = RandomOverSampler(random_state=42)\n",
    "X_resampled, y_resampled = ros.fit_resample(X_train_df, y_train)\n",
    "\n",
    "train = pd.concat([X_resampled, y_resampled.reset_index(drop=True)], axis=1)\n",
    "test = pd.concat([X_test_df, y_test.reset_index(drop=True)], axis=1)\n",
    "\n",
    "print('Resampled train data shape:', Counter(y_resampled))\n",
    "print('Test data shape:', Counter(y_test))\n"
   ]
  },
  {
   "cell_type": "code",
   "execution_count": 24,
   "metadata": {},
   "outputs": [],
   "source": [
    "train.to_csv(\"train.csv\")\n",
    "test.to_csv(\"test.csv\")"
   ]
  }
 ],
 "metadata": {
  "kernelspec": {
   "display_name": "Python 3",
   "language": "python",
   "name": "python3"
  },
  "language_info": {
   "codemirror_mode": {
    "name": "ipython",
    "version": 3
   },
   "file_extension": ".py",
   "mimetype": "text/x-python",
   "name": "python",
   "nbconvert_exporter": "python",
   "pygments_lexer": "ipython3",
   "version": "3.11.4"
  }
 },
 "nbformat": 4,
 "nbformat_minor": 2
}
