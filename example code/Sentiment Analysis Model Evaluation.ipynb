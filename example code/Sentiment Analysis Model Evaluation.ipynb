{
 "cells": [
  {
   "cell_type": "code",
   "execution_count": 37,
   "id": "296aaa58",
   "metadata": {},
   "outputs": [],
   "source": [
    "import os\n",
    "import re\n",
    "from tqdm import tqdm\n",
    "import numpy as np\n",
    "import pandas as pd\n",
    "import matplotlib.pyplot as plt\n",
    "from target_var_cleaning.FFR_cleaner import *\n",
    "from txt_data_cleaning.data_cleaner import textCleaner\n",
    "from sklearn import preprocessing\n",
    "from sklearn.metrics import mean_squared_error\n",
    "from sklearn.linear_model import LinearRegression\n",
    "import math"
   ]
  },
  {
   "cell_type": "code",
   "execution_count": null,
   "id": "6a021302",
   "metadata": {},
   "outputs": [],
   "source": []
  },
  {
   "cell_type": "markdown",
   "id": "e2f02120",
   "metadata": {},
   "source": [
    "# Data Cleaning"
   ]
  },
  {
   "cell_type": "code",
   "execution_count": 2,
   "id": "421b50f1",
   "metadata": {},
   "outputs": [
    {
     "data": {
      "text/plain": [
       "['1993-02-03.txt',\n",
       " '1993-03-23.txt',\n",
       " '1993-05-18.txt',\n",
       " '1993-07-07.txt',\n",
       " '1993-08-17.txt',\n",
       " '1993-09-21.txt',\n",
       " '1993-11-16.txt',\n",
       " '1993-12-21.txt',\n",
       " '1994-02-04.txt',\n",
       " '1994-03-22.txt',\n",
       " '1994-05-17.txt',\n",
       " '1994-07-06.txt',\n",
       " '1994-08-16.txt',\n",
       " '1994-09-27.txt',\n",
       " '1994-11-15.txt',\n",
       " '1994-12-20.txt',\n",
       " '1995-02-01.txt',\n",
       " '1995-03-28.txt',\n",
       " '1995-05-23.txt',\n",
       " '1995-07-06.txt',\n",
       " '1995-08-22.txt',\n",
       " '1995-09-26.txt',\n",
       " '1995-11-15.txt',\n",
       " '1995-12-19.txt',\n",
       " '1996-01-31.txt',\n",
       " '1996-03-26.txt',\n",
       " '1996-05-21.txt',\n",
       " '1996-07-03.txt',\n",
       " '1996-08-20.txt',\n",
       " '1996-09-24.txt',\n",
       " '1996-11-13.txt',\n",
       " '1996-12-17.txt',\n",
       " '1997-02-05.txt',\n",
       " '1997-03-25.txt',\n",
       " '1997-05-20.txt',\n",
       " '1997-07-02.txt',\n",
       " '1997-08-19.txt',\n",
       " '1997-09-30.txt',\n",
       " '1997-11-12.txt',\n",
       " '1997-12-16.txt',\n",
       " '1998-02-04.txt',\n",
       " '1998-03-31.txt',\n",
       " '1998-05-19.txt',\n",
       " '1998-07-01.txt',\n",
       " '1998-08-18.txt',\n",
       " '1998-09-29.txt',\n",
       " '1998-11-17.txt',\n",
       " '1998-12-22.txt',\n",
       " '1999-02-03.txt',\n",
       " '1999-03-30.txt',\n",
       " '1999-05-18.txt',\n",
       " '1999-06-30.txt',\n",
       " '1999-08-24.txt',\n",
       " '1999-10-05.txt',\n",
       " '1999-11-16.txt',\n",
       " '1999-12-21.txt',\n",
       " '2000-02-02.txt',\n",
       " '2000-03-21.txt',\n",
       " '2000-05-16.txt',\n",
       " '2000-06-28.txt',\n",
       " '2000-08-22.txt',\n",
       " '2000-10-03.txt',\n",
       " '2000-11-15.txt',\n",
       " '2000-12-19.txt',\n",
       " '2001-01-31.txt',\n",
       " '2001-03-20.txt',\n",
       " '2001-05-15.txt',\n",
       " '2001-06-27.txt',\n",
       " '2001-08-21.txt',\n",
       " '2001-10-02.txt',\n",
       " '2001-11-06.txt',\n",
       " '2001-12-11.txt',\n",
       " '2002-01-30.txt',\n",
       " '2002-03-19.txt',\n",
       " '2002-05-07.txt',\n",
       " '2002-06-26.txt',\n",
       " '2002-08-13.txt',\n",
       " '2002-09-24.txt',\n",
       " '2002-11-06.txt',\n",
       " '2002-12-10.txt',\n",
       " '2003-01-29.txt',\n",
       " '2003-03-18.txt',\n",
       " '2003-05-06.txt',\n",
       " '2003-06-25.txt',\n",
       " '2003-08-12.txt',\n",
       " '2003-09-16.txt',\n",
       " '2003-10-28.txt',\n",
       " '2003-12-09.txt',\n",
       " '2004-01-28.txt',\n",
       " '2004-03-16.txt',\n",
       " '2004-05-04.txt',\n",
       " '2004-06-30.txt',\n",
       " '2004-08-10.txt',\n",
       " '2004-09-21.txt',\n",
       " '2004-11-10.txt',\n",
       " '2004-12-14.txt',\n",
       " '2005-02-02.txt',\n",
       " '2005-03-22.txt',\n",
       " '2005-05-03.txt',\n",
       " '2005-06-30.txt',\n",
       " '2005-08-09.txt',\n",
       " '2005-09-20.txt',\n",
       " '2005-11-01.txt',\n",
       " '2005-12-13.txt',\n",
       " '2006-01-31.txt',\n",
       " '2006-03-28.txt',\n",
       " '2006-05-10.txt',\n",
       " '2006-06-29.txt',\n",
       " '2006-08-08.txt',\n",
       " '2006-09-20.txt',\n",
       " '2006-10-25.txt',\n",
       " '2006-12-12.txt',\n",
       " '2007-01-31.txt',\n",
       " '2007-03-21.txt',\n",
       " '2007-05-09.txt',\n",
       " '2007-06-28.txt',\n",
       " '2007-08-07.txt',\n",
       " '2007-09-18.txt',\n",
       " '2007-10-31.txt',\n",
       " '2007-12-11.txt',\n",
       " '2008-01-30.txt',\n",
       " '2008-03-18.txt',\n",
       " '2008-04-30.txt',\n",
       " '2008-06-25.txt',\n",
       " '2008-08-05.txt',\n",
       " '2008-09-16.txt',\n",
       " '2008-10-29.txt',\n",
       " '2008-12-16.txt',\n",
       " '2009-01-28.txt',\n",
       " '2009-03-18.txt',\n",
       " '2009-04-29.txt',\n",
       " '2009-06-24.txt',\n",
       " '2009-08-12.txt',\n",
       " '2009-09-23.txt',\n",
       " '2009-11-04.txt',\n",
       " '2009-12-16.txt',\n",
       " '2010-01-27.txt',\n",
       " '2010-03-16.txt',\n",
       " '2010-04-28.txt',\n",
       " '2010-06-23.txt',\n",
       " '2010-08-10.txt',\n",
       " '2010-09-21.txt',\n",
       " '2010-11-03.txt',\n",
       " '2010-12-14.txt',\n",
       " '2011-01-26.txt',\n",
       " '2011-03-15.txt',\n",
       " '2011-04-27.txt',\n",
       " '2011-06-22.txt',\n",
       " '2011-08-09.txt',\n",
       " '2011-09-21.txt',\n",
       " '2011-11-02.txt',\n",
       " '2011-12-13.txt',\n",
       " '2012-01-25.txt',\n",
       " '2012-03-13.txt',\n",
       " '2012-04-25.txt',\n",
       " '2012-06-20.txt',\n",
       " '2012-09-13.txt',\n",
       " '2012-10-24.txt',\n",
       " '2012-12-12.txt',\n",
       " '2013-01-30.txt',\n",
       " '2013-03-20.txt',\n",
       " '2013-05-01.txt',\n",
       " '2013-06-19.txt',\n",
       " '2013-07-31.txt',\n",
       " '2013-09-18.txt',\n",
       " '2013-10-30.txt',\n",
       " '2013-12-18.txt',\n",
       " '2014-01-29.txt',\n",
       " '2014-03-19.txt',\n",
       " '2014-04-30.txt',\n",
       " '2014-06-18.txt',\n",
       " '2014-07-30.txt',\n",
       " '2014-09-17.txt',\n",
       " '2014-10-29.txt',\n",
       " '2014-12-17.txt',\n",
       " '2015-01-28.txt',\n",
       " '2015-03-18.txt',\n",
       " '2015-04-29.txt',\n",
       " '2015-06-17.txt',\n",
       " '2015-07-29.txt',\n",
       " '2015-09-17.txt',\n",
       " '2015-10-28.txt',\n",
       " '2015-12-16.txt',\n",
       " '2016-01-27.txt',\n",
       " '2016-03-16.txt',\n",
       " '2016-04-27.txt',\n",
       " '2016-06-15.txt',\n",
       " '2016-07-27.txt',\n",
       " '2016-09-21.txt',\n",
       " '2016-11-02.txt',\n",
       " '2016-12-14.txt',\n",
       " '2017-02-01.txt',\n",
       " '2017-03-15.txt',\n",
       " '2017-05-03.txt',\n",
       " '2017-06-14.txt',\n",
       " '2017-07-26.txt',\n",
       " '2017-09-20.txt',\n",
       " '2017-11-01.txt',\n",
       " '2017-12-13.txt',\n",
       " '2018-01-31.txt',\n",
       " '2018-03-21.txt',\n",
       " '2018-05-02.txt',\n",
       " '2018-06-13.txt',\n",
       " '2018-08-01.txt',\n",
       " '2018-09-26.txt',\n",
       " '2018-11-08.txt',\n",
       " '2018-12-19.txt',\n",
       " '2019-01-30.txt',\n",
       " '2019-03-20.txt',\n",
       " '2019-05-01.txt',\n",
       " '2019-06-19.txt',\n",
       " '2019-07-31.txt',\n",
       " '2019-09-18.txt',\n",
       " '2019-10-30.txt',\n",
       " '2019-12-11.txt',\n",
       " '2020-01-29.txt',\n",
       " '2020-03-15.txt',\n",
       " '2020-04-29.txt',\n",
       " '2020-06-10.txt',\n",
       " '2020-07-29.txt',\n",
       " '2020-09-16.txt',\n",
       " '2020-11-05.txt',\n",
       " '2020-12-16.txt',\n",
       " '2021-01-27.txt',\n",
       " '2021-03-17.txt',\n",
       " '2021-04-28.txt',\n",
       " '2021-06-16.txt',\n",
       " '2021-07-28.txt',\n",
       " '2021-09-22.txt',\n",
       " '2021-11-03.txt',\n",
       " '2021-12-15.txt',\n",
       " '2022-01-26.txt']"
      ]
     },
     "execution_count": 2,
     "metadata": {},
     "output_type": "execute_result"
    }
   ],
   "source": [
    "os.listdir(os.getcwd()+\"\\\\data\\\\data\\\\minutes\")"
   ]
  },
  {
   "cell_type": "code",
   "execution_count": 3,
   "id": "fef7f487",
   "metadata": {},
   "outputs": [],
   "source": [
    "path = os.getcwd()+\"\\\\data\\\\data\\\\minutes\"\n",
    "minutes_folder = os.listdir(path)\n",
    "datelst = [] #to input dates\n",
    "cleaned_file_lst=[] #to imput text arrays\n",
    "for files in minutes_folder:\n",
    "    file_date = files.rsplit('.',1)[0]\n",
    "    text_cleaner = textCleaner(file_date)\n",
    "    read_file = text_cleaner.readfile(path+\"\\\\\"+files)\n",
    "    cleaned_file = text_cleaner.cleaning(read_file)\n",
    "    datelst.append(file_date) #append results into appropriate array for use\n",
    "    cleaned_file_lst.append(cleaned_file)"
   ]
  },
  {
   "cell_type": "code",
   "execution_count": 4,
   "id": "5418950c",
   "metadata": {},
   "outputs": [
    {
     "name": "stdout",
     "output_type": "stream",
     "text": [
      "['1993-02-03', '1993-03-23', '1993-05-18', '1993-07-07', '1993-08-17', '1993-09-21', '1993-11-16', '1993-12-21', '1994-02-04', '1994-03-22', '1994-05-17', '1994-07-06', '1994-08-16', '1994-09-27', '1994-11-15', '1994-12-20', '1995-02-01', '1995-03-28', '1995-05-23', '1995-07-06', '1995-08-22', '1995-09-26', '1995-11-15', '1995-12-19', '1996-01-31', '1996-03-26', '1996-05-21', '1996-07-03', '1996-08-20', '1996-09-24', '1996-11-13', '1996-12-17', '1997-02-05', '1997-03-25', '1997-05-20', '1997-07-02', '1997-08-19', '1997-09-30', '1997-11-12', '1997-12-16', '1998-02-04', '1998-03-31', '1998-05-19', '1998-07-01', '1998-08-18', '1998-09-29', '1998-11-17', '1998-12-22', '1999-02-03', '1999-03-30', '1999-05-18', '1999-06-30', '1999-08-24', '1999-10-05', '1999-11-16', '1999-12-21', '2000-02-02', '2000-03-21', '2000-05-16', '2000-06-28', '2000-08-22', '2000-10-03', '2000-11-15', '2000-12-19', '2001-01-31', '2001-03-20', '2001-05-15', '2001-06-27', '2001-08-21', '2001-10-02', '2001-11-06', '2001-12-11', '2002-01-30', '2002-03-19', '2002-05-07', '2002-06-26', '2002-08-13', '2002-09-24', '2002-11-06', '2002-12-10', '2003-01-29', '2003-03-18', '2003-05-06', '2003-06-25', '2003-08-12', '2003-09-16', '2003-10-28', '2003-12-09', '2004-01-28', '2004-03-16', '2004-05-04', '2004-06-30', '2004-08-10', '2004-09-21', '2004-11-10', '2004-12-14', '2005-02-02', '2005-03-22', '2005-05-03', '2005-06-30', '2005-08-09', '2005-09-20', '2005-11-01', '2005-12-13', '2006-01-31', '2006-03-28', '2006-05-10', '2006-06-29', '2006-08-08', '2006-09-20', '2006-10-25', '2006-12-12', '2007-01-31', '2007-03-21', '2007-05-09', '2007-06-28', '2007-08-07', '2007-09-18', '2007-10-31', '2007-12-11', '2008-01-30', '2008-03-18', '2008-04-30', '2008-06-25', '2008-08-05', '2008-09-16', '2008-10-29', '2008-12-16', '2009-01-28', '2009-03-18', '2009-04-29', '2009-06-24', '2009-08-12', '2009-09-23', '2009-11-04', '2009-12-16', '2010-01-27', '2010-03-16', '2010-04-28', '2010-06-23', '2010-08-10', '2010-09-21', '2010-11-03', '2010-12-14', '2011-01-26', '2011-03-15', '2011-04-27', '2011-06-22', '2011-08-09', '2011-09-21', '2011-11-02', '2011-12-13', '2012-01-25', '2012-03-13', '2012-04-25', '2012-06-20', '2012-09-13', '2012-10-24', '2012-12-12', '2013-01-30', '2013-03-20', '2013-05-01', '2013-06-19', '2013-07-31', '2013-09-18', '2013-10-30', '2013-12-18', '2014-01-29', '2014-03-19', '2014-04-30', '2014-06-18', '2014-07-30', '2014-09-17', '2014-10-29', '2014-12-17', '2015-01-28', '2015-03-18', '2015-04-29', '2015-06-17', '2015-07-29', '2015-09-17', '2015-10-28', '2015-12-16', '2016-01-27', '2016-03-16', '2016-04-27', '2016-06-15', '2016-07-27', '2016-09-21', '2016-11-02', '2016-12-14', '2017-02-01', '2017-03-15', '2017-05-03', '2017-06-14', '2017-07-26', '2017-09-20', '2017-11-01', '2017-12-13', '2018-01-31', '2018-03-21', '2018-05-02', '2018-06-13', '2018-08-01', '2018-09-26', '2018-11-08', '2018-12-19', '2019-01-30', '2019-03-20', '2019-05-01', '2019-06-19', '2019-07-31', '2019-09-18', '2019-10-30', '2019-12-11', '2020-01-29', '2020-03-15', '2020-04-29', '2020-06-10', '2020-07-29', '2020-09-16', '2020-11-05', '2020-12-16', '2021-01-27', '2021-03-17', '2021-04-28', '2021-06-16', '2021-07-28', '2021-09-22', '2021-11-03', '2021-12-15', '2022-01-26']\n"
     ]
    }
   ],
   "source": [
    "print(datelst)"
   ]
  },
  {
   "cell_type": "code",
   "execution_count": 5,
   "id": "aa02fc4e",
   "metadata": {},
   "outputs": [
    {
     "name": "stdout",
     "output_type": "stream",
     "text": [
      "232\n",
      "232\n",
      "1993-02-03\n"
     ]
    }
   ],
   "source": [
    "print(len(cleaned_file_lst))\n",
    "print(len(datelst))\n",
    "for i in range(len(cleaned_file_lst)):\n",
    "    if cleaned_file_lst[i]==[]:\n",
    "        print(datelst[i])"
   ]
  },
  {
   "cell_type": "code",
   "execution_count": 6,
   "id": "b51d6df0",
   "metadata": {},
   "outputs": [],
   "source": [
    "def FFR_cleaner_execute():\n",
    "    x=FFR_cleaner.readfile('data/data/FEDFUNDS.csv')\n",
    "    y=MinutesDates.getMinutesDates('data/data/minutes')\n",
    "    FFR_cleaned_list = FFR_cleaner.cleaner(x,y)\n",
    "    print(FFR_cleaned_list)\n",
    "    return FFR_cleaned_list"
   ]
  },
  {
   "cell_type": "code",
   "execution_count": 7,
   "id": "ecbc03ce",
   "metadata": {},
   "outputs": [
    {
     "name": "stdout",
     "output_type": "stream",
     "text": [
      "[-2.9315960912052073, 2.3489932885905986, -0.6557377049180334, 1.980198019801982, -2.750809061488672, -1.4975041597337746, 6.4189189189189175, 6.031746031746031, 13.32335329341318, 12.41743725231175, 5.0528789659224405, 5.816554809843416, 6.236786469344606, 8.457711442786065, 5.045871559633017, 4.454148471615735, 0.8361204013377748, -1.741293532338301, -3.1223628691983056, 1.04529616724738, -0.3448275862069045, -3.114186851211068, -0.714285714285715, -5.305755395683452, -0.6647673314339839, 2.0076481835563964, -2.1555763823805103, 1.5325670498084305, -0.4716981132075371, 0.28436018957345366, -1.3232514177693646, 3.2567049808428927, 2.1335807050092805, 0.6357856494096141, 1.6032101438630423e-14, 0.0, -0.5415162454873691, -0.1814882032667838, 0.636363636363639, -0.8130081300812995, -0.3642987249544549, 1.4625228519195461, 0.0, -0.7207207207207215, -10.163339382940102, -5.454545454545464, 0.3205128205128327, 2.449414270500518, -1.455301455301443, 0.42194092827003316, 5.672268907563035, 3.5785288270377675, 4.030710172744721, -2.214022140221404, 5.471698113207548, 4.651162790697671, 5.042735042735043, 6.2652563059398, -0.15313935681471172, -0.07668711656441556, -0.07674597083652945, -1.689708141321036, -6.562499999999999, -9.698996655518394, -16.574074074074083, -11.875693673695888, -6.549118387909325, -25.067385444743927, -24.820143884892097, -12.918660287081332, -4.945054945054949, 0.28901734104045623, 0.8645533141210446, 0.0, -0.8571428571428643, 0.8645533141210446, -11.714285714285719, -19.74110032362459, 0.0, 1.209677419354831, 0.3984063745020013, -3.174603174603177, -16.393442622950815, -0.980392156862746, 0.0, -1.980198019801982, 1.010101010101011, 0.49999999999998934, -0.4975124378109347, 3.0000000000000027, 30.58252427184465, 19.702602230483283, 14.596273291925458, 17.073170731707325, 10.648148148148126, 10.04184100418411, 10.076045627376432, 5.008635578583766, 11.184210526315784, 7.100591715976338, 7.4585635359115905, 6.94087403598973, 3.1249999999999973, 5.827505827505827, 7.158590308370048, 2.5693730729701953, 5.110220440881761, 0.09532888465204754, 0.0, -0.0952380952380932, 0.09532888465204754, 0.1904761904761864, -0.1901140684410606, 0.0, -2.0952380952381016, -3.8910505836575737, -3.6437246963562875, -8.298319327731084, -9.736540664375722, -29.060913705583758, -18.425760286225408, -12.719298245614027, 0.7537688442211007, -9.725685785536152, -46.408839779005525, -71.64948453608247, -45.45454545454546, 33.33333333333335, -25.000000000000007, 30.00000000000001, -17.94871794871795, -6.250000000000005, -20.0, 0.0, -8.33333333333333, 31.818181818181834, 37.93103448275861, -5.000000000000004, -2.6315789473684235, 2.7027027027027053, 0.0, -5.263157894736847, -5.555555555555546, -11.764705882352935, -33.333333333333336, -10.000000000000009, -5.555555555555546, -5.8823529411764754, -6.2499999999999885, -6.666666666666672, 14.285714285714276, 43.75000000000001, 21.739130434782613, 14.285714285714276, -10.416666666666664, 11.627906976744184, 0.0, -12.499999999999993, 3.571428571428574, -10.344827586206904, -30.769230769230777, 0.0, -11.111111111111107, 12.499999999999993, -5.555555555555561, -17.647058823529395, 7.142857142857148, 19.99999999999998, 5.555555555555561, -5.263157894736847, 0.0, 0.0, 16.666666666666664, 4.761904761904766, 0.0, 9.090909090909086, 4.1666666666666705, 4.0000000000000036, 7.692307692307699, -14.285714285714295, 50.0, 88.8888888888889, 8.823529411764696, 0.0, 1.3513513513513526, 4.0000000000000036, 2.5641025641025665, 1.250000000000001, 33.33333333333333, 21.296296296296294, 20.610687022900763, 14.556962025316453, 14.917127071823206, 10.576923076923064, 0.4347826086956429, 0.0, 12.554112554112576, 8.461538461538453, 3.900709219858152, 15.699658703071673, 7.374631268436592, 4.945054945054937, 2.094240837696337, 12.56410256410258, 3.4168564920273226, 5.726872246696031, 0.20833333333334741, 0.0, -1.0395010395010542, 0.8403361344537823, -13.124999999999998, -12.230215827338125, -15.300546448087433, 0.0, -28.064516129032263, -95.51569506726457, 30.0, 38.46153846153845, 5.555555555555561, -5.263157894736847, 0.0, 0.0, -16.66666666666665, -6.666666666666672, 0.0, 42.85714285714285, -15.000000000000014, -5.88235294117646, 0.0, 0.0, 0.0, 0.0]\n"
     ]
    }
   ],
   "source": [
    "FFR_cleaned_list = FFR_cleaner_execute()"
   ]
  },
  {
   "cell_type": "code",
   "execution_count": 8,
   "id": "57771db2",
   "metadata": {},
   "outputs": [
    {
     "name": "stdout",
     "output_type": "stream",
     "text": [
      "232\n"
     ]
    }
   ],
   "source": [
    "print(len(FFR_cleaned_list))"
   ]
  },
  {
   "cell_type": "code",
   "execution_count": 9,
   "id": "28cc7732",
   "metadata": {},
   "outputs": [
    {
     "data": {
      "text/plain": [
       "-2.9315960912052073"
      ]
     },
     "execution_count": 9,
     "metadata": {},
     "output_type": "execute_result"
    }
   ],
   "source": [
    "cleaned_file_lst.pop(0)\n",
    "datelst.pop(0)\n",
    "FFR_cleaned_list.pop(0)"
   ]
  },
  {
   "cell_type": "code",
   "execution_count": 10,
   "id": "39c98862",
   "metadata": {},
   "outputs": [
    {
     "name": "stdout",
     "output_type": "stream",
     "text": [
      "231\n",
      "231\n",
      "231\n"
     ]
    }
   ],
   "source": [
    "print(len(FFR_cleaned_list))\n",
    "print(len(cleaned_file_lst))\n",
    "print(len(datelst))"
   ]
  },
  {
   "cell_type": "code",
   "execution_count": 11,
   "id": "69db46b8",
   "metadata": {},
   "outputs": [
    {
     "name": "stderr",
     "output_type": "stream",
     "text": [
      "[nltk_data] Downloading package punkt to\n",
      "[nltk_data]     C:\\Users\\bsmat\\AppData\\Roaming\\nltk_data...\n",
      "[nltk_data]   Package punkt is already up-to-date!\n",
      "[nltk_data] Downloading package stopwords to\n",
      "[nltk_data]     C:\\Users\\bsmat\\AppData\\Roaming\\nltk_data...\n",
      "[nltk_data]   Package stopwords is already up-to-date!\n"
     ]
    }
   ],
   "source": [
    "from sentiment_analysis.tensorflow_base import adamw_optimizer\n",
    "from sentiment_analysis.tensorflow_bert import TFBertSentimentAnalysis\n",
    "from sentiment_analysis.util.score import normalize_target\n",
    "from sentiment_analysis.util.tensorflow_aggregators import tf_self_weighted_average\n",
    "from sentiment_analysis.text_processing import cleaning, regex_patterns, tokenizer"
   ]
  },
  {
   "cell_type": "code",
   "execution_count": 12,
   "id": "1ae170f1",
   "metadata": {},
   "outputs": [
    {
     "data": {
      "text/plain": [
       "PeriodIndex(['1993-03', '1993-05', '1993-07', '1993-08', '1993-09', '1993-11',\n",
       "             '1993-12', '1994-02', '1994-03', '1994-05',\n",
       "             ...\n",
       "             '2020-12', '2021-01', '2021-03', '2021-04', '2021-06', '2021-07',\n",
       "             '2021-09', '2021-11', '2021-12', '2022-01'],\n",
       "            dtype='period[M]', length=231, freq='M')"
      ]
     },
     "execution_count": 12,
     "metadata": {},
     "output_type": "execute_result"
    }
   ],
   "source": [
    "statements_periods = pd.PeriodIndex(datelst, freq='M')\n",
    "statements_periods"
   ]
  },
  {
   "cell_type": "code",
   "execution_count": 13,
   "id": "c44769bc",
   "metadata": {},
   "outputs": [
    {
     "data": {
      "text/plain": [
       "array([ 0.06141275,  0.02882429,  0.0574129 ,  0.00610174,  0.01969473,\n",
       "        0.10555401,  0.10135485,  0.18043756,  0.17061225,  0.09073833,\n",
       "        0.09902094,  0.10357866,  0.12766618,  0.09066233,  0.08424467,\n",
       "        0.04500456,  0.01705066,  0.00207197,  0.04727322,  0.03219633,\n",
       "        0.00216064,  0.02818929, -0.02160849,  0.02872635,  0.05771062,\n",
       "        0.01255746,  0.05255802,  0.03082033,  0.03902032,  0.02158462,\n",
       "        0.07125754,  0.05907645,  0.04283178,  0.03593623,  0.03593623,\n",
       "        0.0300631 ,  0.03396786,  0.04283805,  0.02711858,  0.03198515,\n",
       "        0.05179834,  0.03593623,  0.0281195 , -0.07429247, -0.02322222,\n",
       "        0.03941242,  0.06250189,  0.02015245,  0.04051249,  0.09745606,\n",
       "        0.07474795,  0.07965218,  0.01192358,  0.09528072,  0.08638143,\n",
       "        0.09062831,  0.10388743,  0.03427533,  0.03510451,  0.03510387,\n",
       "        0.01761014, -0.03523879, -0.06925634, -0.14382149, -0.09286418,\n",
       "       -0.03509365, -0.23593754, -0.23325603, -0.1041759 , -0.01769643,\n",
       "        0.03907083,  0.04531293,  0.03593623,  0.0266399 ,  0.04531293,\n",
       "       -0.0911136 , -0.17817016,  0.03593623,  0.04905605,  0.04025724,\n",
       "        0.00150538, -0.14186241,  0.02530318,  0.03593623,  0.01445957,\n",
       "        0.0468915 ,  0.04135909,  0.03054035,  0.06847339,  0.36762565,\n",
       "        0.24962509,  0.19424329,  0.22110702,  0.15142304,  0.1448472 ,\n",
       "        0.14521818,  0.09025848,  0.15723702,  0.11294724,  0.11682971,\n",
       "        0.11121499,  0.0698291 ,  0.09913971,  0.11357628,  0.06380293,\n",
       "        0.09136024,  0.03697014,  0.03593623,  0.03490331,  0.03697014,\n",
       "        0.03800208,  0.03387431,  0.03593623,  0.01321187, -0.006265  ,\n",
       "       -0.00358257, -0.05406499, -0.06966353, -0.27925022, -0.16390436,\n",
       "       -0.10201368,  0.0441114 , -0.06954581, -0.46740093, -0.74115383,\n",
       "       -0.45705092,  0.39746015, -0.2352067 ,  0.36130775, -0.15873049,\n",
       "       -0.0318495 , -0.18097811,  0.03593623, -0.05444474,  0.38102724,\n",
       "        0.44732551, -0.01829235,  0.00739487,  0.06524898,  0.03593623,\n",
       "       -0.02114649, -0.02431775, -0.09166044, -0.32558768, -0.07252094,\n",
       "       -0.02431775, -0.0278621 , -0.0318495 , -0.03636855,  0.19087505,\n",
       "        0.51043637,  0.2717127 ,  0.19087505, -0.07703999,  0.16204923,\n",
       "        0.03593623, -0.09963523,  0.07467094, -0.07626084, -0.29777815,\n",
       "        0.03593623, -0.08457174,  0.1715077 , -0.02431775, -0.15545878,\n",
       "        0.11340564,  0.25285058,  0.09619022, -0.02114649,  0.03593623,\n",
       "        0.03593623,  0.21669819,  0.08758251,  0.03593623,  0.13453366,\n",
       "        0.08112672,  0.0793191 ,  0.11936483, -0.11900259,  0.5782221 ,\n",
       "        1.        ,  0.13163374,  0.03593623,  0.05059261,  0.0793191 ,\n",
       "        0.06374577,  0.04949338,  0.39746015,  0.26690984,  0.25947392,\n",
       "        0.19381693,  0.19772318,  0.15065055,  0.04065176,  0.03593623,\n",
       "        0.17209459,  0.12770769,  0.07824222,  0.20621029,  0.1159194 ,\n",
       "        0.0895689 ,  0.05864978,  0.17220294,  0.07299449,  0.09804827,\n",
       "        0.03819576,  0.03593623,  0.0246621 ,  0.04505028, -0.10641381,\n",
       "       -0.09670923, -0.13000917,  0.03593623, -0.26844358, -1.        ,\n",
       "        0.36130775,  0.45307921,  0.09619022, -0.02114649,  0.03593623,\n",
       "        0.03593623, -0.14482572, -0.03636855,  0.03593623,  0.50075269,\n",
       "       -0.12674953, -0.0278621 ,  0.03593623,  0.03593623,  0.03593623,\n",
       "        0.03593623])"
      ]
     },
     "execution_count": 13,
     "metadata": {},
     "output_type": "execute_result"
    }
   ],
   "source": [
    "normalized_scores = normalize_target(FFR_cleaned_list, min_score=-1)\n",
    "normalized_scores"
   ]
  },
  {
   "cell_type": "code",
   "execution_count": 14,
   "id": "cec37ba1",
   "metadata": {},
   "outputs": [],
   "source": [
    "for i in range(len(cleaned_file_lst)):\n",
    "    cleaned_file_lst[i]=\" \".join(cleaned_file_lst[i])"
   ]
  },
  {
   "cell_type": "code",
   "execution_count": 15,
   "id": "566eef40",
   "metadata": {},
   "outputs": [
    {
     "name": "stdout",
     "output_type": "stream",
     "text": [
      "system open market account reported developments foreign exchange markets previous system open market transactions foreign currencies thus required deputy manager domestic operations reported developments domestic financial markets system open market transactions government securities federal agency obligations period unanimous committee ratified committee turned discussion economic outlook implementation monetary policy period summary economic financial information available time discussion provided followed domestic policy directive approved committee issued federal reserve bank new information reviewed economic activity expanding moderate pace increasing substantially fourth although outlays business equipment remained strong upward sales new homes slackened consumer spending rising less indicators production activity industrial output continued post solid homebuilding less robust payroll employment unemployment rate moved increases wages remained subdued advances consumer producer prices larger recorded latter total nonfarm payroll employment rose sharply following generally small advances previous length average workweek remained strong job gains retail trade reflected extent partial reversal special factors depressed reported employment sectors previous initial claims unemployment insurance fluctuated range consistent modest growth civilian unemployment rate edged lower industrial production continued rise fairly brisk pace changes mining utilities offsetting balance two increases manufacturing fairly although motor vehicle assemblies fell relatively high production consumer durables computers turned increases output recorded several including materials construction surveys indicated new orders durable goods increased lean factory inventories reports lengthening delivery times gains industrial output coming total utilization industrial capacity rose retail sales advanced surge pause sales automotive dealers weakened sharp increases sales building materials miscellaneous durable nondurable goods registering sizable gains last housing starts fell substantially retraced decline slowdown concentrated housing multifamily starts historically low level although mortgage interest rates dropped lowest levels sales new existing homes turned high incoming data orders shipments nondefense capital goods brisk advance outlays business equipment coming decline shipments nondefense capital goods partially reversed large surge shipments computing equipment helped sustain overall shipments complete civilian aircraft posted solid gain increase appeared concentrated sales foreign domestic airline intense competition forcing cutbacks unprofitable routes reductions number planes service orders new shipments durable equipment computers aircraft fell level fourth reading new orders goods well average fourth suggesting additional advances shipments might lie nonresidential construction activity slightly reflecting persisting declines office industrial building environment excess supply though perhaps downward pressure prices business inventories appeared edged lower factory stocks drawn industries relatively low strong sales pulled inventories many types numerous large accumulation stocks fourth quarter wholesale sector ratio near bottom range past two retail inventories rose large stocks automotive dealers accounted retail stores auto ratio remained narrow range observed past nominal merchandise trade deficit widened slightly little changed average level fourth value exports imports dropped sharply decline imports spread widely major trade decrease exports largely reflected reduction shipments aircraft strong major foreign industrialized level real activity contracted fourth quarter western first limited data available generally weak japan france mixed western economic activity appeared increasing canada united producer prices finished goods changing little fourth producer prices finished foods declined first two prices finished energy products climbed prices finished items rose faster rate consumer price increases high side past food prices jumped rose slightly energy prices retraced sharp excluding food energy consumer prices advanced substantially faster pace period increases measured average hourly earnings production nonsupervisory remained subdued advance average hourly earnings slowed rise twelve ended considerably smaller previous committee adopted directive called maintaining existing degree pressure reserve positions include presumption direction adjustments policy directive indicated context objectives price stability sustainable economic giving careful consideration monetary slightly greater reserve restraint slightly lesser reserve restraint acceptable reserve conditions associated directive expected consistent little change levels period open market operations period directed toward maintaining existing degree pressure reserve adjustment plus seasonal borrowing averaged slightly expected levels three full reserve maintenance periods period federal funds rate remained close percent level prevailed previous interest rates changed little rates fell appreciably bond markets rallied reflecting market assessments improved prospects significant reductions federal budget deficit coming consequences overall prices treasury notes bonds boosted municipal defeasance activity perceptions heightened prepayment risks interest rates treasury bonds conventional mortgages reached lowest levels decline bond mortgage rates subsequently reversed response increased apprehension equity prices generally responded favorably drop interest concerns future changes government policy toward number including health led lower prices segments equities foreign exchange value dollar terms currencies fell balance dollar depreciated partly response declines interest rates incoming data seen pointing slowing expansion united dollar rebounded wake unexpectedly strong employment disappointing inflation signs weakening economic activity near end dollar dropped german mark european following cut bundesbank discount rate less market participants balance dollar marginally lower mark european declined substantially japanese reaching contracted weakness reflected temporary distortions seasonal adjustment factors lull prepayments securities reduced deposits held association relatively attractive returns capital market instruments continued prompt households shift large amounts liquid balances market bond stock mutual fund banks continued issue subordinated debt equity improve balance sheets time expansion bank credit slowing bank lending businesses depressed paydowns proceeds heavy bond stock issuance nonfinancial total domestic nonfinancial debt appeared expanded staff projection prepared economic activity grow year ahead pace foster gradual reduction margins unemployed labor projection incorporated essential elements fiscal proposals recently set forth effects aggregate things expected small several appreciable declines interest rates occurred partly response anticipations deficit expected support substantial additional gains business residential consumer spending bolstered progress already achieved reducing debt service burdens gradual lessening concerns regarding job although higher personal income taxes envisioned taxpayers expected inhibiting increases export demand limited near term continuing weakness economies major industrialized persisting slack resource utilization expected associated return subdued price increases spurt earlier discussion current prospective economic members remained encouraged developments viewed whole tending confirm forecasts sustained economic though pace appreciably indicated fourth quarter economic growth associated time gradual decline expansion appeared generated number factors limit including ongoing balance sheet business restructuring outlook restrictive federal continuing weakness key foreign greatly reduced interest rates much still business consumer confidence positive factors members cautioned though moderate rate economic growth viewed outcome forecast current expansion differed important respects earlier cyclical recoveries light attendant uncertainties considerably different either ruled regard outlook faster increases consumer prices sharp upturn prices certain producer materials tended raise least degree regard underlying inflation developments might well prove aberration rather signal intensifying suggest need reassess likelihood decline inflation alert signs sustained favorable trends underlying unit labor associated turn ongoing gains productivity absence firming wage led many members conclude price developments persuasive evidence change inflation members continued report uneven business conditions across steady economic growth characterized many parts business activity remained depressed areas notably related nonresidential business sentiment generally many business contacts uncertain outlook demand industries potential strength overall fiscal policy developments appeared introduced note uncertainty helped account continuing reliance numerous firms overtime work meet growing demand rather incurring considerable costs adding new increasing number contacts reporting worker recalls new one member job growth viewed measure business sentiment necessary element building maintaining consumer confidence thus helping ensure enduring economic quickening recovery especially second half received considerable impetus consumer growth spending expected moderate pace consumer sector viewed play key role sustaining expansion many consumers taken advantage steep declines interest rates strengthen balance sheets reduce debt service much improved position finance growth members took note indications decline consumer confidence softening retail sales latter appeared result recently adverse weather conditions major parts consumer confidence still much improved balance earlier developments seen harbingers weakening consumer spending trend several business spending durable equipment believed continue appreciable stimulus expansion assuming much reduced interest rates currently favorable business attitudes sustained proposed investment tax credit legislation eventually business spending nonresidential structures probably continue held back weakness office construction stemming widespread office building activity restrained extended members saw positive signs pointed degree stabilization including leveling marginal pickup rents occupancy rates markets previously severely slow turnaround building activity reported notably industrial retail available data starts houses members felt housing construction activity held relatively well thus far allowing adverse weather conditions retarded construction greatly reduced cost mortgage financing pointed continuing gains housing construction despite rise costs associated sharp jump lumber prices scarcity finished building lots members agreed prospects overall spending business capital goods housing vulnerable shifts attitudes might increases market interest rates associated absence progress reducing federal budget outlook significant contraction federal deficit subject considerable especially light still pending decisions made regard health care programs members recognized direct effects appreciable deficit reduction tend constrain economic evidenced impact many areas defense cutbacks already business contacts expressed concerns potential effects industries local markets various provisions proposed encompassing assessment effects deficit reduction needed take account favorable implications domestic interest insofar outlook fiscal legislation consideration included new spending initiatives investment tax credit intended temporary stimulus economic expansion view many might still process gathering sustainable substantial deficit reduction line currently proposed legislation seen positive effect business consumer financial health several members observed outlook exports worsened result weakening economic trends number major industrialized members uncertainties outlook foreign trade associated variety political risks abroad persisting protectionism currently highlighted strong opposition key trade agreements negotiation consideration anecdotal information business contacts involved export markets continued suggest lagging foreign demands many backlogs capital remained members devoted considerable attention discussion various factors underlying outlook consumer producer price indexes less favorable latter prices various industrial construction materials firmed start year response rising production import environmental anecdotal reports increasing costs prices begun appear greater frequency pressures widen profit margins reportedly strong number evaluation inflation members generally gave weight behavior unit labor indicated much underlying cost structure reflect signs pickup inflationary financial extensions credit growth overall nonfinancial sector debt consistent economy generating significant inflationary behavior debt markets expectations subdued upturn consumer certain commodity prices might well represent temporary development occurred previously current cyclical support members cited various fundamentals seemed inconsistent accelerating including considerable slack utilization labor capital strong competitive conditions many absence significant lengthening supplier delivery extended period weak expansion broader monetary aggregates encompassed deceleration members acknowledged price developments raised degree unease concerns rise pace price advances sustained immediately one member observed faster economic expansion currently expected members might well serve intensify inflation price developments notably difficult members concluded evidence point confirm resurgence inflationary modest disinflation remained reasonable expectation several discussion policy period members endorsed proposal maintain unchanged degree pressure reserve two members supported immediate move tighten reserve majority current reserve pressure continued represent policy stance appropriately balanced light opposing risks faltering economic expansion resurgence conditions credit markets confirming evidence emergence greater inflationary pressures need restrain growth continuation balance sheet restructuring activities financial institutions associated caution institutions regard extending loans still appeared exerting significantly inhibiting effect overall growth spending economic several members acknowledged policy maintaining unchanged reserve conditions associated federal funds rate around current implied real rates near zero slightly inflationary consequences event strengthening expansion sustained pickup credit committee need remain alert present unchanged policy stance seemed consistent achieving sustained economic expansion environment subdued members favored prompt move toward restraint persuaded steady policy incurred unacceptable risk halting progress toward price stability indeed intensifying inflation current expansion policy tightening move point counter need substantial potentially disruptive tightening actions course committee members took account staff analysis pointed resumption growth analysis temporary factors depressing broader monetary aggregates influences causing rechanneling credit flows away depository institutions boosting velocity money undoubtedly though probably diminishing staff foresaw moderate growth leave aggregates lower ends ranges prevailing continuing weakness broader aggregates viewed indicating inadequate monetary number members indicators current monetary policy fact quite accommodative evidenced example low interest especially monetary base continued expand first though much reduced one member slowdown narrower monetary viewed important indicators thrust monetary favorable implications regard bringing inflation members agreed considerable uncertainty continued surround outlook broad money relative spending implied forming precise expectations monetary growth ahead discussion possible adjustments degree reserve members favored unchanged policy stance expressed preference retaining symmetry existing observed policy change might well direction tightening compelling case view members move time adjustment made light emerging symmetric directive one member given assessment current economic financial tilt directive toward restraint give misleading indication current members noted change one called represent shift direction policy especially pronounced impact financial conclusion majority members indicated favored directive called maintaining existing degree pressure reserve members expressed preference directive include presumption direction adjustment policy context objectives price stability sustainable economic giving careful consideration monetary committee decided slightly greater slightly lesser reserve restraint acceptable reserve conditions contemplated expected consistent resumption moderate growth second conclusion federal reserve bank new york authorized instructed otherwise execute transactions system account accordance following domestic policy information reviewed suggests economic activity increased moderate pace expanding robustly fourth total nonfarm payroll employment registered sharp increase following generally small advances previous civilian unemployment rate edged industrial production continued post solid gains retail sales increased first two year housing starts slipped registering sizable gains last incoming data orders shipments nondefense capital goods suggest brisk advance outlays business nonresidential construction remained nominal merchandise trade deficit essentially unchanged average level fourth exports imports substantially increases wages remained advances consumer producer prices larger recorded latter interest rates changed little committee bond yields fallen appreciably foreign exchange value dollar terms currencies declined balance contracted reflecting transitory factors shifts market total domestic nonfinancial debt appears expanded federal open market committee monetary financial conditions foster price stability promote sustainable growth furtherance committee established ranges growth percent percent measured fourth quarter fourth quarter committee expects developments contributing unusual velocity increases persist monitoring range growth total domestic nonfinancial debt set percent behavior monetary aggregates continue evaluated light progress toward price level movements developments economy financial implementation policy immediate committee maintain existing degree pressure reserve context objectives price stability sustainable economic giving careful consideration monetary slightly greater reserve restraint slightly lesser reserve restraint acceptable contemplated reserve conditions expected consistent resumption moderate growth broader monetary aggregates second angell angell lindsey indicated concerns outlook inflation prompted favor immediate move tighten reserve action desirable arrest possible emergence greater inflation especially promote persuaded monetary policy currently overly accommodative various indicators data consumer producer upswing commodity low level real interest judgment relatively depressed foreign exchange value dollar given comparative strength economy international interest rate noted current federal funds rate probably sustainable long term tightening move time might well avoid need sizable potentially disruptive policy actions angell emphasized risks associated policy firmly maintain disinflationary interpreted historical typical result policy tolerated inflation eventual rise inflation leading permanently higher interest rates adverse effects economic supported unpegging federal funds rate counter incipient price pressures showing commodity finished goods believed clear signal commitment price level stability stabilize price gold along exchange value dollar thereby climate reductions interest approach policy assure continuing disinflationary trend eventual price favorable implications financial markets economic view preclude unsettling tendency debt markets weaken every time newly available data appeared suggest economic growth strengthening monetary policy tightening actions therefore might policy achievement objective sustaining progress toward price stability believed necessary maintaining higher labor permanently higher savings prolonged period economic agreed committee held normand bernard deputy secretary return top\n"
     ]
    }
   ],
   "source": [
    "print(cleaned_file_lst[0])"
   ]
  },
  {
   "cell_type": "code",
   "execution_count": 18,
   "id": "55c40f29",
   "metadata": {},
   "outputs": [
    {
     "data": {
      "text/plain": [
       "KFold(n_splits=3, random_state=None, shuffle=False)"
      ]
     },
     "execution_count": 18,
     "metadata": {},
     "output_type": "execute_result"
    }
   ],
   "source": [
    "from sklearn.model_selection import KFold\n",
    "kf = KFold(n_splits=3 )\n",
    "kf"
   ]
  },
  {
   "cell_type": "code",
   "execution_count": 19,
   "id": "8832b36b",
   "metadata": {},
   "outputs": [
    {
     "name": "stdout",
     "output_type": "stream",
     "text": [
      "[array([ 77,  78,  79,  80,  81,  82,  83,  84,  85,  86,  87,  88,  89,\n",
      "        90,  91,  92,  93,  94,  95,  96,  97,  98,  99, 100, 101, 102,\n",
      "       103, 104, 105, 106, 107, 108, 109, 110, 111, 112, 113, 114, 115,\n",
      "       116, 117, 118, 119, 120, 121, 122, 123, 124, 125, 126, 127, 128,\n",
      "       129, 130, 131, 132, 133, 134, 135, 136, 137, 138, 139, 140, 141,\n",
      "       142, 143, 144, 145, 146, 147, 148, 149, 150, 151, 152, 153, 154,\n",
      "       155, 156, 157, 158, 159, 160, 161, 162, 163, 164, 165, 166, 167,\n",
      "       168, 169, 170, 171, 172, 173, 174, 175, 176, 177, 178, 179, 180,\n",
      "       181, 182, 183, 184, 185, 186, 187, 188, 189, 190, 191, 192, 193,\n",
      "       194, 195, 196, 197, 198, 199, 200, 201, 202, 203, 204, 205, 206,\n",
      "       207, 208, 209, 210, 211, 212, 213, 214, 215, 216, 217, 218, 219,\n",
      "       220, 221, 222, 223, 224, 225, 226, 227, 228, 229, 230]), array([  0,   1,   2,   3,   4,   5,   6,   7,   8,   9,  10,  11,  12,\n",
      "        13,  14,  15,  16,  17,  18,  19,  20,  21,  22,  23,  24,  25,\n",
      "        26,  27,  28,  29,  30,  31,  32,  33,  34,  35,  36,  37,  38,\n",
      "        39,  40,  41,  42,  43,  44,  45,  46,  47,  48,  49,  50,  51,\n",
      "        52,  53,  54,  55,  56,  57,  58,  59,  60,  61,  62,  63,  64,\n",
      "        65,  66,  67,  68,  69,  70,  71,  72,  73,  74,  75,  76, 154,\n",
      "       155, 156, 157, 158, 159, 160, 161, 162, 163, 164, 165, 166, 167,\n",
      "       168, 169, 170, 171, 172, 173, 174, 175, 176, 177, 178, 179, 180,\n",
      "       181, 182, 183, 184, 185, 186, 187, 188, 189, 190, 191, 192, 193,\n",
      "       194, 195, 196, 197, 198, 199, 200, 201, 202, 203, 204, 205, 206,\n",
      "       207, 208, 209, 210, 211, 212, 213, 214, 215, 216, 217, 218, 219,\n",
      "       220, 221, 222, 223, 224, 225, 226, 227, 228, 229, 230]), array([  0,   1,   2,   3,   4,   5,   6,   7,   8,   9,  10,  11,  12,\n",
      "        13,  14,  15,  16,  17,  18,  19,  20,  21,  22,  23,  24,  25,\n",
      "        26,  27,  28,  29,  30,  31,  32,  33,  34,  35,  36,  37,  38,\n",
      "        39,  40,  41,  42,  43,  44,  45,  46,  47,  48,  49,  50,  51,\n",
      "        52,  53,  54,  55,  56,  57,  58,  59,  60,  61,  62,  63,  64,\n",
      "        65,  66,  67,  68,  69,  70,  71,  72,  73,  74,  75,  76,  77,\n",
      "        78,  79,  80,  81,  82,  83,  84,  85,  86,  87,  88,  89,  90,\n",
      "        91,  92,  93,  94,  95,  96,  97,  98,  99, 100, 101, 102, 103,\n",
      "       104, 105, 106, 107, 108, 109, 110, 111, 112, 113, 114, 115, 116,\n",
      "       117, 118, 119, 120, 121, 122, 123, 124, 125, 126, 127, 128, 129,\n",
      "       130, 131, 132, 133, 134, 135, 136, 137, 138, 139, 140, 141, 142,\n",
      "       143, 144, 145, 146, 147, 148, 149, 150, 151, 152, 153])]\n",
      "[array([ 0,  1,  2,  3,  4,  5,  6,  7,  8,  9, 10, 11, 12, 13, 14, 15, 16,\n",
      "       17, 18, 19, 20, 21, 22, 23, 24, 25, 26, 27, 28, 29, 30, 31, 32, 33,\n",
      "       34, 35, 36, 37, 38, 39, 40, 41, 42, 43, 44, 45, 46, 47, 48, 49, 50,\n",
      "       51, 52, 53, 54, 55, 56, 57, 58, 59, 60, 61, 62, 63, 64, 65, 66, 67,\n",
      "       68, 69, 70, 71, 72, 73, 74, 75, 76]), array([ 77,  78,  79,  80,  81,  82,  83,  84,  85,  86,  87,  88,  89,\n",
      "        90,  91,  92,  93,  94,  95,  96,  97,  98,  99, 100, 101, 102,\n",
      "       103, 104, 105, 106, 107, 108, 109, 110, 111, 112, 113, 114, 115,\n",
      "       116, 117, 118, 119, 120, 121, 122, 123, 124, 125, 126, 127, 128,\n",
      "       129, 130, 131, 132, 133, 134, 135, 136, 137, 138, 139, 140, 141,\n",
      "       142, 143, 144, 145, 146, 147, 148, 149, 150, 151, 152, 153]), array([154, 155, 156, 157, 158, 159, 160, 161, 162, 163, 164, 165, 166,\n",
      "       167, 168, 169, 170, 171, 172, 173, 174, 175, 176, 177, 178, 179,\n",
      "       180, 181, 182, 183, 184, 185, 186, 187, 188, 189, 190, 191, 192,\n",
      "       193, 194, 195, 196, 197, 198, 199, 200, 201, 202, 203, 204, 205,\n",
      "       206, 207, 208, 209, 210, 211, 212, 213, 214, 215, 216, 217, 218,\n",
      "       219, 220, 221, 222, 223, 224, 225, 226, 227, 228, 229, 230])]\n"
     ]
    }
   ],
   "source": [
    "train_index_list=[]\n",
    "test_index_list=[]\n",
    "for train_index, test_index in kf.split(normalized_scores):\n",
    "    train_index_list.append(train_index)\n",
    "    test_index_list.append(test_index)\n",
    "    \n",
    "print(train_index_list)\n",
    "print(test_index_list)"
   ]
  },
  {
   "cell_type": "markdown",
   "id": "324070bc",
   "metadata": {},
   "source": [
    "# Model training"
   ]
  },
  {
   "cell_type": "code",
   "execution_count": 20,
   "id": "5cb54da1",
   "metadata": {},
   "outputs": [],
   "source": [
    "bert_handle_name = \"electra_small\"\n",
    "\n",
    "epochs = 20\n",
    "batch_size = 4"
   ]
  },
  {
   "cell_type": "code",
   "execution_count": 21,
   "id": "324beb8e",
   "metadata": {},
   "outputs": [],
   "source": [
    "num_train_steps = epochs * normalized_scores.shape[0]"
   ]
  },
  {
   "cell_type": "code",
   "execution_count": 22,
   "id": "cbb44393",
   "metadata": {},
   "outputs": [],
   "source": [
    "minutes_bert = TFBertSentimentAnalysis(\n",
    "    bert_handle_name,\n",
    "    score_aggregator=tf_self_weighted_average\n",
    ")"
   ]
  },
  {
   "cell_type": "code",
   "execution_count": 22,
   "id": "34aa5102",
   "metadata": {},
   "outputs": [
    {
     "name": "stderr",
     "output_type": "stream",
     "text": [
      "Epoch    1/   20: 100%|██████████| 39/39 [00:37<00:00,  1.04it/s]\n",
      "Epoch    2/   20:   0%|          | 0/39 [00:00<?, ?it/s]"
     ]
    },
    {
     "name": "stdout",
     "output_type": "stream",
     "text": [
      " Loss:=0.18639601602290684\n"
     ]
    },
    {
     "name": "stderr",
     "output_type": "stream",
     "text": [
      "Epoch    2/   20: 100%|██████████| 39/39 [00:22<00:00,  1.76it/s]\n",
      "Epoch    3/   20:   0%|          | 0/39 [00:00<?, ?it/s]"
     ]
    },
    {
     "name": "stdout",
     "output_type": "stream",
     "text": [
      " Loss:=0.05645865519554951\n"
     ]
    },
    {
     "name": "stderr",
     "output_type": "stream",
     "text": [
      "Epoch    3/   20: 100%|██████████| 39/39 [00:21<00:00,  1.78it/s]\n",
      "Epoch    4/   20:   0%|          | 0/39 [00:00<?, ?it/s]"
     ]
    },
    {
     "name": "stdout",
     "output_type": "stream",
     "text": [
      " Loss:=0.045719449841178574\n"
     ]
    },
    {
     "name": "stderr",
     "output_type": "stream",
     "text": [
      "Epoch    4/   20: 100%|██████████| 39/39 [00:21<00:00,  1.83it/s]\n",
      "Epoch    5/   20:   0%|          | 0/39 [00:00<?, ?it/s]"
     ]
    },
    {
     "name": "stdout",
     "output_type": "stream",
     "text": [
      " Loss:=0.0382821763602969\n"
     ]
    },
    {
     "name": "stderr",
     "output_type": "stream",
     "text": [
      "Epoch    5/   20: 100%|██████████| 39/39 [00:21<00:00,  1.83it/s]\n",
      "Epoch    6/   20:   0%|          | 0/39 [00:00<?, ?it/s]"
     ]
    },
    {
     "name": "stdout",
     "output_type": "stream",
     "text": [
      " Loss:=0.03668692326531387\n"
     ]
    },
    {
     "name": "stderr",
     "output_type": "stream",
     "text": [
      "Epoch    6/   20: 100%|██████████| 39/39 [00:21<00:00,  1.83it/s]\n",
      "Epoch    7/   20:   0%|          | 0/39 [00:00<?, ?it/s]"
     ]
    },
    {
     "name": "stdout",
     "output_type": "stream",
     "text": [
      " Loss:=0.059814385669783525\n"
     ]
    },
    {
     "name": "stderr",
     "output_type": "stream",
     "text": [
      "Epoch    7/   20: 100%|██████████| 39/39 [00:21<00:00,  1.84it/s]\n",
      "Epoch    8/   20:   0%|          | 0/39 [00:00<?, ?it/s]"
     ]
    },
    {
     "name": "stdout",
     "output_type": "stream",
     "text": [
      " Loss:=0.034055715158898145\n"
     ]
    },
    {
     "name": "stderr",
     "output_type": "stream",
     "text": [
      "Epoch    8/   20: 100%|██████████| 39/39 [00:21<00:00,  1.85it/s]\n",
      "Epoch    9/   20:   0%|          | 0/39 [00:00<?, ?it/s]"
     ]
    },
    {
     "name": "stdout",
     "output_type": "stream",
     "text": [
      " Loss:=0.03921841008540911\n"
     ]
    },
    {
     "name": "stderr",
     "output_type": "stream",
     "text": [
      "Epoch    9/   20: 100%|██████████| 39/39 [00:20<00:00,  1.88it/s]\n",
      "Epoch   10/   20:   0%|          | 0/39 [00:00<?, ?it/s]"
     ]
    },
    {
     "name": "stdout",
     "output_type": "stream",
     "text": [
      " Loss:=0.036849031660658046\n"
     ]
    },
    {
     "name": "stderr",
     "output_type": "stream",
     "text": [
      "Epoch   10/   20: 100%|██████████| 39/39 [00:21<00:00,  1.80it/s]\n",
      "Epoch   11/   20:   0%|          | 0/39 [00:00<?, ?it/s]"
     ]
    },
    {
     "name": "stdout",
     "output_type": "stream",
     "text": [
      " Loss:=0.029114876942446407\n"
     ]
    },
    {
     "name": "stderr",
     "output_type": "stream",
     "text": [
      "Epoch   11/   20: 100%|██████████| 39/39 [00:21<00:00,  1.84it/s]\n",
      "Epoch   12/   20:   0%|          | 0/39 [00:00<?, ?it/s]"
     ]
    },
    {
     "name": "stdout",
     "output_type": "stream",
     "text": [
      " Loss:=0.022979996382043913\n"
     ]
    },
    {
     "name": "stderr",
     "output_type": "stream",
     "text": [
      "Epoch   12/   20: 100%|██████████| 39/39 [00:21<00:00,  1.84it/s]\n",
      "Epoch   13/   20:   0%|          | 0/39 [00:00<?, ?it/s]"
     ]
    },
    {
     "name": "stdout",
     "output_type": "stream",
     "text": [
      " Loss:=0.021797477691553723\n"
     ]
    },
    {
     "name": "stderr",
     "output_type": "stream",
     "text": [
      "Epoch   13/   20: 100%|██████████| 39/39 [00:21<00:00,  1.84it/s]\n",
      "Epoch   14/   20:   0%|          | 0/39 [00:00<?, ?it/s]"
     ]
    },
    {
     "name": "stdout",
     "output_type": "stream",
     "text": [
      " Loss:=0.025014995385367327\n"
     ]
    },
    {
     "name": "stderr",
     "output_type": "stream",
     "text": [
      "Epoch   14/   20: 100%|██████████| 39/39 [00:21<00:00,  1.84it/s]\n",
      "Epoch   15/   20:   0%|          | 0/39 [00:00<?, ?it/s]"
     ]
    },
    {
     "name": "stdout",
     "output_type": "stream",
     "text": [
      " Loss:=0.020417720133152146\n"
     ]
    },
    {
     "name": "stderr",
     "output_type": "stream",
     "text": [
      "Epoch   15/   20: 100%|██████████| 39/39 [00:21<00:00,  1.84it/s]\n",
      "Epoch   16/   20:   0%|          | 0/39 [00:00<?, ?it/s]"
     ]
    },
    {
     "name": "stdout",
     "output_type": "stream",
     "text": [
      " Loss:=0.01786080248749409\n"
     ]
    },
    {
     "name": "stderr",
     "output_type": "stream",
     "text": [
      "Epoch   16/   20: 100%|██████████| 39/39 [00:21<00:00,  1.84it/s]\n",
      "Epoch   17/   20:   0%|          | 0/39 [00:00<?, ?it/s]"
     ]
    },
    {
     "name": "stdout",
     "output_type": "stream",
     "text": [
      " Loss:=0.010487453550852548\n"
     ]
    },
    {
     "name": "stderr",
     "output_type": "stream",
     "text": [
      "Epoch   17/   20: 100%|██████████| 39/39 [00:21<00:00,  1.84it/s]\n",
      "Epoch   18/   20:   0%|          | 0/39 [00:00<?, ?it/s]"
     ]
    },
    {
     "name": "stdout",
     "output_type": "stream",
     "text": [
      " Loss:=0.00988471833541273\n"
     ]
    },
    {
     "name": "stderr",
     "output_type": "stream",
     "text": [
      "Epoch   18/   20: 100%|██████████| 39/39 [00:21<00:00,  1.85it/s]\n",
      "Epoch   19/   20:   0%|          | 0/39 [00:00<?, ?it/s]"
     ]
    },
    {
     "name": "stdout",
     "output_type": "stream",
     "text": [
      " Loss:=0.0143124322091283\n"
     ]
    },
    {
     "name": "stderr",
     "output_type": "stream",
     "text": [
      "Epoch   19/   20: 100%|██████████| 39/39 [00:21<00:00,  1.83it/s]\n",
      "Epoch   20/   20:   0%|          | 0/39 [00:00<?, ?it/s]"
     ]
    },
    {
     "name": "stdout",
     "output_type": "stream",
     "text": [
      " Loss:=0.014729574761496713\n"
     ]
    },
    {
     "name": "stderr",
     "output_type": "stream",
     "text": [
      "Epoch   20/   20: 100%|██████████| 39/39 [00:21<00:00,  1.84it/s]"
     ]
    },
    {
     "name": "stdout",
     "output_type": "stream",
     "text": [
      " Loss:=0.008795777098827947\n",
      "WARNING:tensorflow:Compiled the loaded model, but the compiled metrics have yet to be built. `model.compile_metrics` will be empty until you train or evaluate the model.\n"
     ]
    },
    {
     "name": "stderr",
     "output_type": "stream",
     "text": [
      "\n",
      "WARNING:tensorflow:Compiled the loaded model, but the compiled metrics have yet to be built. `model.compile_metrics` will be empty until you train or evaluate the model.\n",
      "WARNING:absl:Found untraced functions such as restored_function_body, restored_function_body, restored_function_body, restored_function_body, restored_function_body while saving (showing 5 of 360). These functions will not be directly callable after loading.\n"
     ]
    },
    {
     "name": "stdout",
     "output_type": "stream",
     "text": [
      "INFO:tensorflow:Assets written to: xValidation_models/model0\\_bert_model\\assets\n"
     ]
    },
    {
     "name": "stderr",
     "output_type": "stream",
     "text": [
      "INFO:tensorflow:Assets written to: xValidation_models/model0\\_bert_model\\assets\n",
      "Epoch    1/   20: 100%|██████████| 58/58 [00:52<00:00,  1.10it/s]\n",
      "Epoch    2/   20:   0%|          | 0/58 [00:00<?, ?it/s]"
     ]
    },
    {
     "name": "stdout",
     "output_type": "stream",
     "text": [
      " Loss:=0.16708390387417427\n"
     ]
    },
    {
     "name": "stderr",
     "output_type": "stream",
     "text": [
      "Epoch    2/   20: 100%|██████████| 58/58 [00:34<00:00,  1.69it/s]\n",
      "Epoch    3/   20:   0%|          | 0/58 [00:00<?, ?it/s]"
     ]
    },
    {
     "name": "stdout",
     "output_type": "stream",
     "text": [
      " Loss:=0.03453457260259491\n"
     ]
    },
    {
     "name": "stderr",
     "output_type": "stream",
     "text": [
      "Epoch    3/   20: 100%|██████████| 58/58 [00:34<00:00,  1.67it/s]\n",
      "Epoch    4/   20:   0%|          | 0/58 [00:00<?, ?it/s]"
     ]
    },
    {
     "name": "stdout",
     "output_type": "stream",
     "text": [
      " Loss:=0.03202300178938834\n"
     ]
    },
    {
     "name": "stderr",
     "output_type": "stream",
     "text": [
      "Epoch    4/   20: 100%|██████████| 58/58 [00:33<00:00,  1.75it/s]\n",
      "Epoch    5/   20:   0%|          | 0/58 [00:00<?, ?it/s]"
     ]
    },
    {
     "name": "stdout",
     "output_type": "stream",
     "text": [
      " Loss:=0.028577396868936848\n"
     ]
    },
    {
     "name": "stderr",
     "output_type": "stream",
     "text": [
      "Epoch    5/   20: 100%|██████████| 58/58 [00:32<00:00,  1.80it/s]\n",
      "Epoch    6/   20:   0%|          | 0/58 [00:00<?, ?it/s]"
     ]
    },
    {
     "name": "stdout",
     "output_type": "stream",
     "text": [
      " Loss:=0.027870401847959046\n"
     ]
    },
    {
     "name": "stderr",
     "output_type": "stream",
     "text": [
      "Epoch    6/   20: 100%|██████████| 58/58 [00:32<00:00,  1.79it/s]\n",
      "Epoch    7/   20:   0%|          | 0/58 [00:00<?, ?it/s]"
     ]
    },
    {
     "name": "stdout",
     "output_type": "stream",
     "text": [
      " Loss:=0.02077368831318193\n"
     ]
    },
    {
     "name": "stderr",
     "output_type": "stream",
     "text": [
      "Epoch    7/   20: 100%|██████████| 58/58 [00:34<00:00,  1.69it/s]\n",
      "Epoch    8/   20:   0%|          | 0/58 [00:00<?, ?it/s]"
     ]
    },
    {
     "name": "stdout",
     "output_type": "stream",
     "text": [
      " Loss:=0.029526251926215302\n"
     ]
    },
    {
     "name": "stderr",
     "output_type": "stream",
     "text": [
      "Epoch    8/   20: 100%|██████████| 58/58 [00:34<00:00,  1.69it/s]\n",
      "Epoch    9/   20:   0%|          | 0/58 [00:00<?, ?it/s]"
     ]
    },
    {
     "name": "stdout",
     "output_type": "stream",
     "text": [
      " Loss:=0.026793740476744553\n"
     ]
    },
    {
     "name": "stderr",
     "output_type": "stream",
     "text": [
      "Epoch    9/   20: 100%|██████████| 58/58 [00:34<00:00,  1.69it/s]\n",
      "Epoch   10/   20:   0%|          | 0/58 [00:00<?, ?it/s]"
     ]
    },
    {
     "name": "stdout",
     "output_type": "stream",
     "text": [
      " Loss:=0.015421814126778467\n"
     ]
    },
    {
     "name": "stderr",
     "output_type": "stream",
     "text": [
      "Epoch   10/   20: 100%|██████████| 58/58 [00:33<00:00,  1.72it/s]\n",
      "Epoch   11/   20:   0%|          | 0/58 [00:00<?, ?it/s]"
     ]
    },
    {
     "name": "stdout",
     "output_type": "stream",
     "text": [
      " Loss:=0.012381825185127975\n"
     ]
    },
    {
     "name": "stderr",
     "output_type": "stream",
     "text": [
      "Epoch   11/   20: 100%|██████████| 58/58 [00:34<00:00,  1.69it/s]\n",
      "Epoch   12/   20:   0%|          | 0/58 [00:00<?, ?it/s]"
     ]
    },
    {
     "name": "stdout",
     "output_type": "stream",
     "text": [
      " Loss:=0.008915391017016473\n"
     ]
    },
    {
     "name": "stderr",
     "output_type": "stream",
     "text": [
      "Epoch   12/   20: 100%|██████████| 58/58 [00:35<00:00,  1.63it/s]\n",
      "Epoch   13/   20:   0%|          | 0/58 [00:00<?, ?it/s]"
     ]
    },
    {
     "name": "stdout",
     "output_type": "stream",
     "text": [
      " Loss:=0.006713474473960152\n"
     ]
    },
    {
     "name": "stderr",
     "output_type": "stream",
     "text": [
      "Epoch   13/   20: 100%|██████████| 58/58 [00:33<00:00,  1.71it/s]\n",
      "Epoch   14/   20:   0%|          | 0/58 [00:00<?, ?it/s]"
     ]
    },
    {
     "name": "stdout",
     "output_type": "stream",
     "text": [
      " Loss:=0.006669047174188469\n"
     ]
    },
    {
     "name": "stderr",
     "output_type": "stream",
     "text": [
      "Epoch   14/   20: 100%|██████████| 58/58 [00:32<00:00,  1.78it/s]\n",
      "Epoch   15/   20:   0%|          | 0/58 [00:00<?, ?it/s]"
     ]
    },
    {
     "name": "stdout",
     "output_type": "stream",
     "text": [
      " Loss:=0.007636697742249265\n"
     ]
    },
    {
     "name": "stderr",
     "output_type": "stream",
     "text": [
      "Epoch   15/   20: 100%|██████████| 58/58 [00:32<00:00,  1.81it/s]\n",
      "Epoch   16/   20:   0%|          | 0/58 [00:00<?, ?it/s]"
     ]
    },
    {
     "name": "stdout",
     "output_type": "stream",
     "text": [
      " Loss:=0.007603916233447621\n"
     ]
    },
    {
     "name": "stderr",
     "output_type": "stream",
     "text": [
      "Epoch   16/   20: 100%|██████████| 58/58 [00:32<00:00,  1.80it/s]\n",
      "Epoch   17/   20:   0%|          | 0/58 [00:00<?, ?it/s]"
     ]
    },
    {
     "name": "stdout",
     "output_type": "stream",
     "text": [
      " Loss:=0.00923550625608688\n"
     ]
    },
    {
     "name": "stderr",
     "output_type": "stream",
     "text": [
      "Epoch   17/   20: 100%|██████████| 58/58 [00:32<00:00,  1.81it/s]\n",
      "Epoch   18/   20:   0%|          | 0/58 [00:00<?, ?it/s]"
     ]
    },
    {
     "name": "stdout",
     "output_type": "stream",
     "text": [
      " Loss:=0.003158329350393113\n"
     ]
    },
    {
     "name": "stderr",
     "output_type": "stream",
     "text": [
      "Epoch   18/   20: 100%|██████████| 58/58 [00:31<00:00,  1.81it/s]\n",
      "Epoch   19/   20:   0%|          | 0/58 [00:00<?, ?it/s]"
     ]
    },
    {
     "name": "stdout",
     "output_type": "stream",
     "text": [
      " Loss:=0.0037807632350073807\n"
     ]
    },
    {
     "name": "stderr",
     "output_type": "stream",
     "text": [
      "Epoch   19/   20: 100%|██████████| 58/58 [00:32<00:00,  1.81it/s]\n",
      "Epoch   20/   20:   0%|          | 0/58 [00:00<?, ?it/s]"
     ]
    },
    {
     "name": "stdout",
     "output_type": "stream",
     "text": [
      " Loss:=0.006940025512574658\n"
     ]
    },
    {
     "name": "stderr",
     "output_type": "stream",
     "text": [
      "Epoch   20/   20: 100%|██████████| 58/58 [00:32<00:00,  1.81it/s]"
     ]
    },
    {
     "name": "stdout",
     "output_type": "stream",
     "text": [
      " Loss:=0.003555204331421229\n",
      "WARNING:tensorflow:Compiled the loaded model, but the compiled metrics have yet to be built. `model.compile_metrics` will be empty until you train or evaluate the model.\n"
     ]
    },
    {
     "name": "stderr",
     "output_type": "stream",
     "text": [
      "\n",
      "WARNING:tensorflow:Compiled the loaded model, but the compiled metrics have yet to be built. `model.compile_metrics` will be empty until you train or evaluate the model.\n",
      "WARNING:absl:Found untraced functions such as restored_function_body, restored_function_body, restored_function_body, restored_function_body, restored_function_body while saving (showing 5 of 360). These functions will not be directly callable after loading.\n"
     ]
    },
    {
     "name": "stdout",
     "output_type": "stream",
     "text": [
      "INFO:tensorflow:Assets written to: xValidation_models/model1\\_bert_model\\assets\n"
     ]
    },
    {
     "name": "stderr",
     "output_type": "stream",
     "text": [
      "INFO:tensorflow:Assets written to: xValidation_models/model1\\_bert_model\\assets\n",
      "Epoch    1/   20: 100%|██████████| 39/39 [01:10<00:00,  1.80s/it]\n",
      "Epoch    2/   20:   0%|          | 0/39 [00:00<?, ?it/s]"
     ]
    },
    {
     "name": "stdout",
     "output_type": "stream",
     "text": [
      " Loss:=0.23119901278271124\n"
     ]
    },
    {
     "name": "stderr",
     "output_type": "stream",
     "text": [
      "Epoch    2/   20: 100%|██████████| 39/39 [00:56<00:00,  1.45s/it]\n",
      "Epoch    3/   20:   0%|          | 0/39 [00:00<?, ?it/s]"
     ]
    },
    {
     "name": "stdout",
     "output_type": "stream",
     "text": [
      " Loss:=0.02866422777207425\n"
     ]
    },
    {
     "name": "stderr",
     "output_type": "stream",
     "text": [
      "Epoch    3/   20: 100%|██████████| 39/39 [00:57<00:00,  1.48s/it]\n",
      "Epoch    4/   20:   0%|          | 0/39 [00:00<?, ?it/s]"
     ]
    },
    {
     "name": "stdout",
     "output_type": "stream",
     "text": [
      " Loss:=0.02741014433857531\n"
     ]
    },
    {
     "name": "stderr",
     "output_type": "stream",
     "text": [
      "Epoch    4/   20: 100%|██████████| 39/39 [00:57<00:00,  1.47s/it]\n",
      "Epoch    5/   20:   0%|          | 0/39 [00:00<?, ?it/s]"
     ]
    },
    {
     "name": "stdout",
     "output_type": "stream",
     "text": [
      " Loss:=0.021169974677599013\n"
     ]
    },
    {
     "name": "stderr",
     "output_type": "stream",
     "text": [
      "Epoch    5/   20: 100%|██████████| 39/39 [00:57<00:00,  1.47s/it]\n",
      "Epoch    6/   20:   0%|          | 0/39 [00:00<?, ?it/s]"
     ]
    },
    {
     "name": "stdout",
     "output_type": "stream",
     "text": [
      " Loss:=0.0183204290134689\n"
     ]
    },
    {
     "name": "stderr",
     "output_type": "stream",
     "text": [
      "Epoch    6/   20: 100%|██████████| 39/39 [00:57<00:00,  1.47s/it]\n",
      "Epoch    7/   20:   0%|          | 0/39 [00:00<?, ?it/s]"
     ]
    },
    {
     "name": "stdout",
     "output_type": "stream",
     "text": [
      " Loss:=0.017189975092874076\n"
     ]
    },
    {
     "name": "stderr",
     "output_type": "stream",
     "text": [
      "Epoch    7/   20: 100%|██████████| 39/39 [00:57<00:00,  1.47s/it]\n",
      "Epoch    8/   20:   0%|          | 0/39 [00:00<?, ?it/s]"
     ]
    },
    {
     "name": "stdout",
     "output_type": "stream",
     "text": [
      " Loss:=0.018926058870513376\n"
     ]
    },
    {
     "name": "stderr",
     "output_type": "stream",
     "text": [
      "Epoch    8/   20: 100%|██████████| 39/39 [00:57<00:00,  1.47s/it]\n",
      "Epoch    9/   20:   0%|          | 0/39 [00:00<?, ?it/s]"
     ]
    },
    {
     "name": "stdout",
     "output_type": "stream",
     "text": [
      " Loss:=0.01051945179903832\n"
     ]
    },
    {
     "name": "stderr",
     "output_type": "stream",
     "text": [
      "Epoch    9/   20: 100%|██████████| 39/39 [00:56<00:00,  1.46s/it]\n",
      "Epoch   10/   20:   0%|          | 0/39 [00:00<?, ?it/s]"
     ]
    },
    {
     "name": "stdout",
     "output_type": "stream",
     "text": [
      " Loss:=0.015310509079613555\n"
     ]
    },
    {
     "name": "stderr",
     "output_type": "stream",
     "text": [
      "Epoch   10/   20: 100%|██████████| 39/39 [00:57<00:00,  1.47s/it]\n",
      "Epoch   11/   20:   0%|          | 0/39 [00:00<?, ?it/s]"
     ]
    },
    {
     "name": "stdout",
     "output_type": "stream",
     "text": [
      " Loss:=0.011227703904762912\n"
     ]
    },
    {
     "name": "stderr",
     "output_type": "stream",
     "text": [
      "Epoch   11/   20: 100%|██████████| 39/39 [00:59<00:00,  1.52s/it]\n",
      "Epoch   12/   20:   0%|          | 0/39 [00:00<?, ?it/s]"
     ]
    },
    {
     "name": "stdout",
     "output_type": "stream",
     "text": [
      " Loss:=0.012124913906565128\n"
     ]
    },
    {
     "name": "stderr",
     "output_type": "stream",
     "text": [
      "Epoch   12/   20: 100%|██████████| 39/39 [01:04<00:00,  1.65s/it]\n",
      "Epoch   13/   20:   0%|          | 0/39 [00:00<?, ?it/s]"
     ]
    },
    {
     "name": "stdout",
     "output_type": "stream",
     "text": [
      " Loss:=0.012346429820470989\n"
     ]
    },
    {
     "name": "stderr",
     "output_type": "stream",
     "text": [
      "Epoch   13/   20: 100%|██████████| 39/39 [01:05<00:00,  1.68s/it]\n",
      "Epoch   14/   20:   0%|          | 0/39 [00:00<?, ?it/s]"
     ]
    },
    {
     "name": "stdout",
     "output_type": "stream",
     "text": [
      " Loss:=0.00879733022959091\n"
     ]
    },
    {
     "name": "stderr",
     "output_type": "stream",
     "text": [
      "Epoch   14/   20: 100%|██████████| 39/39 [01:05<00:00,  1.67s/it]\n",
      "Epoch   15/   20:   0%|          | 0/39 [00:00<?, ?it/s]"
     ]
    },
    {
     "name": "stdout",
     "output_type": "stream",
     "text": [
      " Loss:=0.005642550395956884\n"
     ]
    },
    {
     "name": "stderr",
     "output_type": "stream",
     "text": [
      "Epoch   15/   20: 100%|██████████| 39/39 [00:59<00:00,  1.52s/it]\n",
      "Epoch   16/   20:   0%|          | 0/39 [00:00<?, ?it/s]"
     ]
    },
    {
     "name": "stdout",
     "output_type": "stream",
     "text": [
      " Loss:=0.006104387730234661\n"
     ]
    },
    {
     "name": "stderr",
     "output_type": "stream",
     "text": [
      "Epoch   16/   20: 100%|██████████| 39/39 [00:57<00:00,  1.47s/it]\n",
      "Epoch   17/   20:   0%|          | 0/39 [00:00<?, ?it/s]"
     ]
    },
    {
     "name": "stdout",
     "output_type": "stream",
     "text": [
      " Loss:=0.00421747625939763\n"
     ]
    },
    {
     "name": "stderr",
     "output_type": "stream",
     "text": [
      "Epoch   17/   20: 100%|██████████| 39/39 [01:00<00:00,  1.54s/it]\n",
      "Epoch   18/   20:   0%|          | 0/39 [00:00<?, ?it/s]"
     ]
    },
    {
     "name": "stdout",
     "output_type": "stream",
     "text": [
      " Loss:=0.004097477495237492\n"
     ]
    },
    {
     "name": "stderr",
     "output_type": "stream",
     "text": [
      "Epoch   18/   20: 100%|██████████| 39/39 [01:00<00:00,  1.55s/it]\n",
      "Epoch   19/   20:   0%|          | 0/39 [00:00<?, ?it/s]"
     ]
    },
    {
     "name": "stdout",
     "output_type": "stream",
     "text": [
      " Loss:=0.004974722566727836\n"
     ]
    },
    {
     "name": "stderr",
     "output_type": "stream",
     "text": [
      "Epoch   19/   20: 100%|██████████| 39/39 [01:00<00:00,  1.54s/it]\n",
      "Epoch   20/   20:   0%|          | 0/39 [00:00<?, ?it/s]"
     ]
    },
    {
     "name": "stdout",
     "output_type": "stream",
     "text": [
      " Loss:=0.005101420411031144\n"
     ]
    },
    {
     "name": "stderr",
     "output_type": "stream",
     "text": [
      "Epoch   20/   20: 100%|██████████| 39/39 [01:00<00:00,  1.56s/it]"
     ]
    },
    {
     "name": "stdout",
     "output_type": "stream",
     "text": [
      " Loss:=0.0037385266268990026\n",
      "WARNING:tensorflow:Compiled the loaded model, but the compiled metrics have yet to be built. `model.compile_metrics` will be empty until you train or evaluate the model.\n"
     ]
    },
    {
     "name": "stderr",
     "output_type": "stream",
     "text": [
      "\n",
      "WARNING:tensorflow:Compiled the loaded model, but the compiled metrics have yet to be built. `model.compile_metrics` will be empty until you train or evaluate the model.\n",
      "WARNING:absl:Found untraced functions such as restored_function_body, restored_function_body, restored_function_body, restored_function_body, restored_function_body while saving (showing 5 of 360). These functions will not be directly callable after loading.\n"
     ]
    },
    {
     "name": "stdout",
     "output_type": "stream",
     "text": [
      "INFO:tensorflow:Assets written to: xValidation_models/model2\\_bert_model\\assets\n"
     ]
    },
    {
     "name": "stderr",
     "output_type": "stream",
     "text": [
      "INFO:tensorflow:Assets written to: xValidation_models/model2\\_bert_model\\assets\n"
     ]
    }
   ],
   "source": [
    "minutes_bert_train_loss_tracer = []\n",
    "for i in range(len(train_index_list)):\n",
    "    minutes_bert = TFBertSentimentAnalysis(\n",
    "    bert_handle_name,\n",
    "    score_aggregator=tf_self_weighted_average\n",
    "    )\n",
    "    minutes_bert.train(\n",
    "        target_scores=normalized_scores[train_index_list[i][0]:train_index_list[i][-1]],\n",
    "        text_sequence_dataset=cleaned_file_lst[train_index_list[i][0]:train_index_list[i][-1]],\n",
    "        epochs=epochs,\n",
    "        batch_size=batch_size,\n",
    "        train_loss_tracer=minutes_bert_train_loss_tracer,\n",
    "        optimizer=adamw_optimizer(\n",
    "            num_train_steps=num_train_steps\n",
    "        )\n",
    "    )\n",
    "    minutes_bert.save(\"xValidation_models/model\"+str(i))"
   ]
  },
  {
   "cell_type": "code",
   "execution_count": 23,
   "id": "694c4c3a",
   "metadata": {},
   "outputs": [
    {
     "name": "stdout",
     "output_type": "stream",
     "text": [
      "WARNING:tensorflow:No training configuration found in save file, so the model was *not* compiled. Compile it manually.\n"
     ]
    },
    {
     "name": "stderr",
     "output_type": "stream",
     "text": [
      "WARNING:tensorflow:No training configuration found in save file, so the model was *not* compiled. Compile it manually.\n"
     ]
    }
   ],
   "source": [
    "testmodel = TFBertSentimentAnalysis.restore('xValidation_models/model0')"
   ]
  },
  {
   "cell_type": "code",
   "execution_count": 24,
   "id": "f616e976",
   "metadata": {},
   "outputs": [],
   "source": [
    "test_score_batch=testmodel.score_batch(cleaned_file_lst[test_index_list[0][0]:test_index_list[0][-1]])"
   ]
  },
  {
   "cell_type": "code",
   "execution_count": 25,
   "id": "a6ae6e73",
   "metadata": {},
   "outputs": [
    {
     "name": "stdout",
     "output_type": "stream",
     "text": [
      "[ 0.0979812   0.08036403  0.07800017  0.06842356  0.1482874   0.04220336\n",
      "  0.06190266  0.06028445  0.08968697  0.07100801  0.08402601  0.09696062\n",
      "  0.05241587  0.09930755 -0.09598286  0.14208837 -0.0034626   0.08237992\n",
      "  0.03467701  0.11745422  0.09471048  0.11928775  0.07486014 -0.0034626\n",
      "  0.16016103  0.15805249  0.16072689  0.05243762  0.1371121   0.02803458\n",
      "  0.134575    0.12360241  0.11135407  0.17402412  0.17254908  0.06655912\n",
      "  0.07965519  0.09797763  0.02889298  0.09436546  0.13481091  0.16216706\n",
      "  0.07673289  0.13460389  0.13232686  0.10196759  0.22848149  0.08573334\n",
      "  0.01518055  0.05389758  0.09409813  0.15248589  0.10223688  0.13458179\n",
      "  0.02120473  0.07990208  0.10753803  0.06205003  0.1937139   0.08175828\n",
      "  0.17147349  0.10611396  0.12902294  0.21788943  0.05899163  0.03878014\n",
      "  0.11185931  0.13715175  0.07526271  0.095342    0.06528999  0.11837058\n",
      "  0.11344834  0.10013635  0.11650155  0.09160741]\n"
     ]
    }
   ],
   "source": [
    "print(test_score_batch)"
   ]
  },
  {
   "cell_type": "code",
   "execution_count": 30,
   "id": "01d46da0",
   "metadata": {},
   "outputs": [
    {
     "name": "stdout",
     "output_type": "stream",
     "text": [
      "76\n"
     ]
    }
   ],
   "source": [
    "print(test_score_batch.shape[0])"
   ]
  },
  {
   "cell_type": "code",
   "execution_count": 29,
   "id": "85b51bb4",
   "metadata": {},
   "outputs": [
    {
     "data": {
      "text/plain": [
       "0.01363403790779305"
      ]
     },
     "execution_count": 29,
     "metadata": {},
     "output_type": "execute_result"
    }
   ],
   "source": [
    "mean_squared_error(normalized_scores[test_index_list[0][0]:test_index_list[0][-1]],test_score_batch)"
   ]
  },
  {
   "cell_type": "markdown",
   "id": "f52b4e3f",
   "metadata": {},
   "source": [
    "# Model Evaluation (for pre-trained model)"
   ]
  },
  {
   "cell_type": "code",
   "execution_count": 44,
   "id": "aa94aac3",
   "metadata": {},
   "outputs": [
    {
     "name": "stdout",
     "output_type": "stream",
     "text": [
      "WARNING:tensorflow:No training configuration found in save file, so the model was *not* compiled. Compile it manually.\n"
     ]
    },
    {
     "name": "stderr",
     "output_type": "stream",
     "text": [
      "WARNING:tensorflow:No training configuration found in save file, so the model was *not* compiled. Compile it manually.\n"
     ]
    },
    {
     "name": "stdout",
     "output_type": "stream",
     "text": [
      "WARNING:tensorflow:No training configuration found in save file, so the model was *not* compiled. Compile it manually.\n"
     ]
    },
    {
     "name": "stderr",
     "output_type": "stream",
     "text": [
      "WARNING:tensorflow:No training configuration found in save file, so the model was *not* compiled. Compile it manually.\n"
     ]
    },
    {
     "name": "stdout",
     "output_type": "stream",
     "text": [
      "WARNING:tensorflow:No training configuration found in save file, so the model was *not* compiled. Compile it manually.\n"
     ]
    },
    {
     "name": "stderr",
     "output_type": "stream",
     "text": [
      "WARNING:tensorflow:No training configuration found in save file, so the model was *not* compiled. Compile it manually.\n"
     ]
    },
    {
     "name": "stdout",
     "output_type": "stream",
     "text": [
      "[0.11676488302479068, 0.06665857167058423, 0.2218004361951653]\n"
     ]
    }
   ],
   "source": [
    "rmse_list=[]\n",
    "for i in range(len(train_index_list)):\n",
    "    mod = TFBertSentimentAnalysis.restore('xValidation_models/model'+str(i))\n",
    "    test_score_batch=mod.score_batch(cleaned_file_lst[test_index_list[i][0]:test_index_list[i][-1]])\n",
    "    mse=mean_squared_error(normalized_scores[test_index_list[i][0]:test_index_list[i][-1]],test_score_batch)\n",
    "    rmse_list.append(math.sqrt(mse))\n",
    "\n",
    "print(rmse_list)"
   ]
  },
  {
   "cell_type": "code",
   "execution_count": 78,
   "id": "2977ccb9",
   "metadata": {},
   "outputs": [
    {
     "name": "stdout",
     "output_type": "stream",
     "text": [
      "THIS IS RSME AVERAGE SCORE FOR 3 FOLDS 0.13507463029684674\n"
     ]
    }
   ],
   "source": [
    "rmse_average=sum(rmse_list)/(len(train_index_list))\n",
    "print(\"THIS IS RSME AVERAGE SCORE FOR 3 FOLDS\" + \" \" + str(rmse_average))"
   ]
  },
  {
   "cell_type": "code",
   "execution_count": 49,
   "id": "87c7e9ab",
   "metadata": {},
   "outputs": [
    {
     "name": "stdout",
     "output_type": "stream",
     "text": [
      "WARNING:tensorflow:No training configuration found in save file, so the model was *not* compiled. Compile it manually.\n"
     ]
    },
    {
     "name": "stderr",
     "output_type": "stream",
     "text": [
      "WARNING:tensorflow:No training configuration found in save file, so the model was *not* compiled. Compile it manually.\n"
     ]
    },
    {
     "data": {
      "text/plain": [
       "0.8945293902069438"
      ]
     },
     "execution_count": 49,
     "metadata": {},
     "output_type": "execute_result"
    }
   ],
   "source": [
    "mod= TFBertSentimentAnalysis.restore('xValidation_models/model0')\n",
    "pred_output_train = mod.score_batch(cleaned_file_lst[train_index_list[0][0]:train_index_list[0][-1]])\n",
    "Y=np.array(pred_output_train)\n",
    "Y=Y.reshape(-1,1)\n",
    "X=np.array(normalized_scores[train_index_list[0][0]:train_index_list[0][-1]])\n",
    "X=X.reshape(-1,1)\n",
    "reg = LinearRegression().fit(X,Y)\n",
    "reg.score(X,Y)"
   ]
  },
  {
   "cell_type": "code",
   "execution_count": 57,
   "id": "def181d7",
   "metadata": {},
   "outputs": [
    {
     "name": "stdout",
     "output_type": "stream",
     "text": [
      "[[0.92368586]]\n",
      "[0.07732378]\n"
     ]
    }
   ],
   "source": [
    "a=reg.coef_\n",
    "b=reg.intercept_\n",
    "print(a)\n",
    "print(b)"
   ]
  },
  {
   "cell_type": "markdown",
   "id": "83ab9beb",
   "metadata": {},
   "source": [
    "/// for testing ///\n",
    "\n",
    "plt.scatter(X,Y,color=\"blue\")\n",
    "plt.plot(X,a*X+b,color=\"black\")\n",
    "plt.title(str(1)+'/'+ str(len(train_index_list)) +' ' +'fold',fontsize=21)\n",
    "print('R-Squared value:' +' '+ 'test')"
   ]
  },
  {
   "cell_type": "code",
   "execution_count": null,
   "id": "f2796598",
   "metadata": {},
   "outputs": [],
   "source": [
    "\n"
   ]
  },
  {
   "cell_type": "code",
   "execution_count": 77,
   "id": "9f8ca041",
   "metadata": {},
   "outputs": [
    {
     "name": "stdout",
     "output_type": "stream",
     "text": [
      "WARNING:tensorflow:No training configuration found in save file, so the model was *not* compiled. Compile it manually.\n"
     ]
    },
    {
     "name": "stderr",
     "output_type": "stream",
     "text": [
      "WARNING:tensorflow:No training configuration found in save file, so the model was *not* compiled. Compile it manually.\n"
     ]
    },
    {
     "name": "stdout",
     "output_type": "stream",
     "text": [
      "WARNING:tensorflow:No training configuration found in save file, so the model was *not* compiled. Compile it manually.\n"
     ]
    },
    {
     "name": "stderr",
     "output_type": "stream",
     "text": [
      "WARNING:tensorflow:No training configuration found in save file, so the model was *not* compiled. Compile it manually.\n"
     ]
    },
    {
     "name": "stdout",
     "output_type": "stream",
     "text": [
      "WARNING:tensorflow:No training configuration found in save file, so the model was *not* compiled. Compile it manually.\n"
     ]
    },
    {
     "name": "stderr",
     "output_type": "stream",
     "text": [
      "WARNING:tensorflow:No training configuration found in save file, so the model was *not* compiled. Compile it manually.\n"
     ]
    },
    {
     "name": "stdout",
     "output_type": "stream",
     "text": [
      "[0.8945293902069438, 0.9064647465567173, 0.869954116394533]\n"
     ]
    },
    {
     "data": {
      "image/png": "[encoded data removed]",
      "text/plain": [
       "<Figure size 1080x1080 with 3 Axes>"
      ]
     },
     "metadata": {
      "needs_background": "light"
     },
     "output_type": "display_data"
    }
   ],
   "source": [
    "LR_score=[]\n",
    "figure, axis = plt.subplots(3, 1,figsize=(15,15))\n",
    "for i in range(len(train_index_list)):\n",
    "    mod= TFBertSentimentAnalysis.restore('xValidation_models/model'+str(i))\n",
    "    pred_output_train = mod.score_batch(cleaned_file_lst[train_index_list[i][0]:train_index_list[i][-1]])\n",
    "    Y=np.array(pred_output_train)\n",
    "    Y=Y.reshape(-1,1)\n",
    "    X=np.array(normalized_scores[train_index_list[i][0]:train_index_list[i][-1]])\n",
    "    X=X.reshape(-1,1)\n",
    "    reg = LinearRegression().fit(X,Y)\n",
    "    score=reg.score(X,Y)\n",
    "    LR_score.append(score)\n",
    "    a=reg.coef_\n",
    "    b=reg.intercept_\n",
    "    axis[i].scatter(X,Y,color=\"blue\")\n",
    "    axis[i].plot(X,a*X+b,color=\"black\")\n",
    "    axis[i].set_title(str(i+1)+'/'+ str(len(train_index_list)) +' ' +'fold',fontsize=21)\n",
    "\n",
    "print(LR_score)"
   ]
  },
  {
   "cell_type": "code",
   "execution_count": 79,
   "id": "20cb6884",
   "metadata": {},
   "outputs": [
    {
     "name": "stdout",
     "output_type": "stream",
     "text": [
      "THIS IS R-SQUARED AVERAGE SCORE FOR 3 FOLDS 0.8903160843860647\n"
     ]
    }
   ],
   "source": [
    "rsq_ave=sum(LR_score)/(len(train_index_list))\n",
    "print(\"THIS IS R-SQUARED AVERAGE SCORE FOR 3 FOLDS\" + \" \" + str(rsq_ave))"
   ]
  },
  {
   "cell_type": "code",
   "execution_count": null,
   "id": "685bdc79",
   "metadata": {},
   "outputs": [],
   "source": []
  }
 ],
 "metadata": {
  "kernelspec": {
   "display_name": "Python 3",
   "language": "python",
   "name": "python3"
  },
  "language_info": {
   "codemirror_mode": {
    "name": "ipython",
    "version": 3
   },
   "file_extension": ".py",
   "mimetype": "text/x-python",
   "name": "python",
   "nbconvert_exporter": "python",
   "pygments_lexer": "ipython3",
   "version": "3.8.8"
  }
 },
 "nbformat": 4,
 "nbformat_minor": 5
}
